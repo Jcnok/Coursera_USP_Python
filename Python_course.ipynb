{
  "nbformat": 4,
  "nbformat_minor": 0,
  "metadata": {
    "colab": {
      "provenance": [],
      "authorship_tag": "ABX9TyNdYtPF/LJvJZTJcbTs/eVr",
      "include_colab_link": true
    },
    "kernelspec": {
      "name": "python3",
      "display_name": "Python 3"
    },
    "language_info": {
      "name": "python"
    }
  },
  "cells": [
    {
      "cell_type": "markdown",
      "metadata": {
        "id": "view-in-github",
        "colab_type": "text"
      },
      "source": [
        "<a href=\"https://colab.research.google.com/github/Jcnok/Coursera_USP_Python/blob/master/Python_course.ipynb\" target=\"_parent\"><img src=\"https://colab.research.google.com/assets/colab-badge.svg\" alt=\"Open In Colab\"/></a>"
      ]
    },
    {
      "cell_type": "markdown",
      "source": [
        "## Listas:"
      ],
      "metadata": {
        "id": "RoO8FtuRQKGW"
      }
    },
    {
      "cell_type": "code",
      "source": [
        "frutas = [\"laranja\", \"maca\", \"uva\"]\n",
        "print(frutas)\n",
        "\n",
        "frutas = []\n",
        "print(frutas)\n",
        "\n",
        "letras = list(\"python\")\n",
        "print(letras)\n",
        "\n",
        "numeros = list(range(10))\n",
        "print(numeros)\n",
        "\n",
        "carro = [\"Ferrari\", \"F8\", 4200000, 2020, 2900, \"São Paulo\", True]\n",
        "print(carro)"
      ],
      "metadata": {
        "colab": {
          "base_uri": "https://localhost:8080/"
        },
        "id": "Hk1I-H7AQNME",
        "outputId": "d230df04-0472-478d-b739-1abfa1524dc0"
      },
      "execution_count": 3,
      "outputs": [
        {
          "output_type": "stream",
          "name": "stdout",
          "text": [
            "['laranja', 'maca', 'uva']\n",
            "[]\n",
            "['p', 'y', 't', 'h', 'o', 'n']\n",
            "[0, 1, 2, 3, 4, 5, 6, 7, 8, 9]\n",
            "['Ferrari', 'F8', 4200000, 2020, 2900, 'São Paulo', True]\n"
          ]
        }
      ]
    },
    {
      "cell_type": "code",
      "source": [
        "#slice\n",
        "frutas = [\"maçã\", \"laranja\", \"uva\", \"pera\"]\n",
        "\n",
        "print(frutas[0])  # maçã\n",
        "print(frutas[2])  # uva"
      ],
      "metadata": {
        "colab": {
          "base_uri": "https://localhost:8080/"
        },
        "id": "bFtupgs9QI1o",
        "outputId": "09166905-47a4-4870-bf86-2a58be874eac"
      },
      "execution_count": 4,
      "outputs": [
        {
          "output_type": "stream",
          "name": "stdout",
          "text": [
            "maçã\n",
            "uva\n"
          ]
        }
      ]
    },
    {
      "cell_type": "code",
      "source": [
        "frutas = [\"maçã\", \"laranja\", \"uva\", \"pera\"]\n",
        "\n",
        "print(frutas[-1])  # pera\n",
        "print(frutas[-3])  # laranja"
      ],
      "metadata": {
        "colab": {
          "base_uri": "https://localhost:8080/"
        },
        "id": "-X6sR4jJQXiM",
        "outputId": "902bf5b1-300b-4a99-ee6f-388c63374991"
      },
      "execution_count": 5,
      "outputs": [
        {
          "output_type": "stream",
          "name": "stdout",
          "text": [
            "pera\n",
            "laranja\n"
          ]
        }
      ]
    },
    {
      "cell_type": "code",
      "source": [
        "matriz = [\n",
        "    [1, \"a\", 2],\n",
        "    [\"b\", 3, 4],\n",
        "    [6, 5, \"c\"]\n",
        "]\n",
        "\n",
        "print(matriz[0])  # [1, \"a\", 2]\n",
        "print(matriz[0][0])  # 1\n",
        "print(matriz[0][-1])  # 2\n",
        "print(matriz[-1][-1])  # \"c\""
      ],
      "metadata": {
        "colab": {
          "base_uri": "https://localhost:8080/"
        },
        "id": "5h0PFV2_Qd7E",
        "outputId": "3458932a-466a-4549-ad97-7940e4e04524"
      },
      "execution_count": 6,
      "outputs": [
        {
          "output_type": "stream",
          "name": "stdout",
          "text": [
            "[1, 'a', 2]\n",
            "1\n",
            "2\n",
            "c\n"
          ]
        }
      ]
    },
    {
      "cell_type": "code",
      "source": [
        "lista = [\"p\", \"y\", \"t\", \"h\", \"o\", \"n\"]\n",
        "\n",
        "print(lista[2:])  # [\"t\", \"h\", \"o\", \"n\"]\n",
        "print(lista[:2])  # [\"p\", \"y\"]\n",
        "print(lista[1:3])  # [\"y\", \"t\"]\n",
        "print(lista[0:3:2])  # [\"p\", \"t\"]\n",
        "print(lista[::])  # [\"p\", \"y\", \"t\", \"h\", \"o\", \"n\"]\n",
        "print(lista[::-1])  # [\"n\", \"o\", \"h\", \"t\", \"y\", \"p\"]"
      ],
      "metadata": {
        "colab": {
          "base_uri": "https://localhost:8080/"
        },
        "id": "q-F4yIF6Qi7c",
        "outputId": "1a6ea17f-d8a9-4318-fccf-30ecf1d346b1"
      },
      "execution_count": 7,
      "outputs": [
        {
          "output_type": "stream",
          "name": "stdout",
          "text": [
            "['t', 'h', 'o', 'n']\n",
            "['p', 'y']\n",
            "['y', 't']\n",
            "['p', 't']\n",
            "['p', 'y', 't', 'h', 'o', 'n']\n",
            "['n', 'o', 'h', 't', 'y', 'p']\n"
          ]
        }
      ]
    },
    {
      "cell_type": "code",
      "source": [
        "carros = [\"gol\", \"celta\", \"palio\"]\n",
        "\n",
        "for carro in carros:\n",
        "    print(carro)\n",
        "\n",
        "\n",
        "for indice, carro in enumerate(carros):\n",
        "    print(f\"{indice}: {carro}\")"
      ],
      "metadata": {
        "colab": {
          "base_uri": "https://localhost:8080/"
        },
        "id": "zyf8Wv5hQl7k",
        "outputId": "47664d77-7b57-4dc1-b6bd-af495a4ba46b"
      },
      "execution_count": 8,
      "outputs": [
        {
          "output_type": "stream",
          "name": "stdout",
          "text": [
            "gol\n",
            "celta\n",
            "palio\n",
            "0: gol\n",
            "1: celta\n",
            "2: palio\n"
          ]
        }
      ]
    },
    {
      "cell_type": "code",
      "source": [
        "# Filtrar lista\n",
        "numeros = [1, 30, 21, 2, 9, 65, 34]\n",
        "pares = [numero for numero in numeros if numero % 2 == 0]\n",
        "print(pares)\n",
        "\n",
        "# Modificar valores\n",
        "numeros = [1, 30, 21, 2, 9, 65, 34]\n",
        "quadrado = [numero**2 for numero in numeros]\n",
        "print(quadrado)"
      ],
      "metadata": {
        "colab": {
          "base_uri": "https://localhost:8080/"
        },
        "id": "4hWnXDGmQqqM",
        "outputId": "51b7a0c7-bb22-4523-83d4-ead51607150d"
      },
      "execution_count": 9,
      "outputs": [
        {
          "output_type": "stream",
          "name": "stdout",
          "text": [
            "[30, 2, 34]\n",
            "[1, 900, 441, 4, 81, 4225, 1156]\n"
          ]
        }
      ]
    },
    {
      "cell_type": "code",
      "source": [
        "lista = []\n",
        "\n",
        "lista.append(1)\n",
        "lista.append(\"Python\")\n",
        "lista.append([40, 30, 20])\n",
        "\n",
        "print(lista)  # [1, \"Python\", [40, 30, 20]]"
      ],
      "metadata": {
        "colab": {
          "base_uri": "https://localhost:8080/"
        },
        "id": "Ax0--YzEQuDk",
        "outputId": "f25c0bce-4ff0-4000-f5ec-da2ca73d3bca"
      },
      "execution_count": 10,
      "outputs": [
        {
          "output_type": "stream",
          "name": "stdout",
          "text": [
            "[1, 'Python', [40, 30, 20]]\n"
          ]
        }
      ]
    },
    {
      "cell_type": "code",
      "source": [
        "lista = [1, \"Python\", [40, 30, 20]]\n",
        "\n",
        "print(lista)  # [1, \"Python\", [40, 30, 20]]\n",
        "\n",
        "lista.clear()\n",
        "\n",
        "print(lista)  # []"
      ],
      "metadata": {
        "colab": {
          "base_uri": "https://localhost:8080/"
        },
        "id": "DdwXNYN4QyKE",
        "outputId": "86f61f50-0ee1-44bd-ac35-cf53c2ba15c5"
      },
      "execution_count": 11,
      "outputs": [
        {
          "output_type": "stream",
          "name": "stdout",
          "text": [
            "[1, 'Python', [40, 30, 20]]\n",
            "[]\n"
          ]
        }
      ]
    },
    {
      "cell_type": "code",
      "source": [
        "lista = [1, \"Python\", [40, 30, 20]]\n",
        "\n",
        "lista.copy()\n",
        "\n",
        "print(lista)  # [1, \"Python\", [40, 30, 20]]"
      ],
      "metadata": {
        "colab": {
          "base_uri": "https://localhost:8080/"
        },
        "id": "Bmba9BUGQ2f1",
        "outputId": "c07a034a-66e6-4644-e843-5f40ca322c6a"
      },
      "execution_count": 12,
      "outputs": [
        {
          "output_type": "stream",
          "name": "stdout",
          "text": [
            "[1, 'Python', [40, 30, 20]]\n"
          ]
        }
      ]
    },
    {
      "cell_type": "code",
      "source": [
        "cores = [\"vermelho\", \"azul\", \"verde\", \"azul\"]\n",
        "\n",
        "print(cores.count(\"vermelho\"))  # 1\n",
        "print(cores.count(\"azul\"))  # 2\n",
        "print(cores.count(\"verde\"))  # 1"
      ],
      "metadata": {
        "colab": {
          "base_uri": "https://localhost:8080/"
        },
        "id": "yKwK9IU2Q5cV",
        "outputId": "9986d0b4-17c6-46c6-b40b-24350deaa3ee"
      },
      "execution_count": 13,
      "outputs": [
        {
          "output_type": "stream",
          "name": "stdout",
          "text": [
            "1\n",
            "2\n",
            "1\n"
          ]
        }
      ]
    },
    {
      "cell_type": "code",
      "source": [
        "linguagens = [\"python\", \"js\", \"c\"]\n",
        "\n",
        "print(linguagens)  # [\"python\", \"js\", \"c\"]\n",
        "\n",
        "linguagens.extend([\"java\", \"csharp\"])\n",
        "\n",
        "print(linguagens)  # [\"python\", \"js\", \"c\", \"java\", \"csharp\"]"
      ],
      "metadata": {
        "colab": {
          "base_uri": "https://localhost:8080/"
        },
        "id": "m6Dl3LSHQ8fc",
        "outputId": "35d70485-b861-4b0f-999b-eb25379b7426"
      },
      "execution_count": 14,
      "outputs": [
        {
          "output_type": "stream",
          "name": "stdout",
          "text": [
            "['python', 'js', 'c']\n",
            "['python', 'js', 'c', 'java', 'csharp']\n"
          ]
        }
      ]
    },
    {
      "cell_type": "code",
      "source": [
        "linguagens = [\"python\", \"js\", \"c\", \"java\", \"csharp\"]\n",
        "\n",
        "print(linguagens.index(\"java\"))  # 3\n",
        "print(linguagens.index(\"python\"))  # 0"
      ],
      "metadata": {
        "colab": {
          "base_uri": "https://localhost:8080/"
        },
        "id": "ZpQxGlSMQ_us",
        "outputId": "96af28e6-0a98-4349-8377-bdfb04cf9e3b"
      },
      "execution_count": 15,
      "outputs": [
        {
          "output_type": "stream",
          "name": "stdout",
          "text": [
            "3\n",
            "0\n"
          ]
        }
      ]
    },
    {
      "cell_type": "code",
      "source": [
        "linguagens = [\"python\", \"js\", \"c\", \"java\", \"csharp\"]\n",
        "\n",
        "print(linguagens.pop())  # csharp\n",
        "print(linguagens.pop())  # java\n",
        "print(linguagens.pop())  # c\n",
        "print(linguagens.pop(0))  # python"
      ],
      "metadata": {
        "colab": {
          "base_uri": "https://localhost:8080/"
        },
        "id": "rMtaJZSHRJkc",
        "outputId": "3ae85061-eef0-4770-9e8d-8ca3d1196bb4"
      },
      "execution_count": 16,
      "outputs": [
        {
          "output_type": "stream",
          "name": "stdout",
          "text": [
            "csharp\n",
            "java\n",
            "c\n",
            "python\n"
          ]
        }
      ]
    },
    {
      "cell_type": "code",
      "source": [
        "linguagens = [\"python\", \"js\", \"c\", \"java\", \"csharp\"]\n",
        "\n",
        "linguagens.remove(\"c\")\n",
        "\n",
        "print(linguagens)  # [\"python\", \"js\", \"java\", \"csharp\"]"
      ],
      "metadata": {
        "colab": {
          "base_uri": "https://localhost:8080/"
        },
        "id": "UtiQWpRrRNq1",
        "outputId": "ae18c853-ae40-4c5f-945a-f137e0019e82"
      },
      "execution_count": 17,
      "outputs": [
        {
          "output_type": "stream",
          "name": "stdout",
          "text": [
            "['python', 'js', 'java', 'csharp']\n"
          ]
        }
      ]
    },
    {
      "cell_type": "code",
      "source": [
        "linguagens = [\"python\", \"js\", \"c\", \"java\", \"csharp\"]\n",
        "\n",
        "linguagens.reverse()\n",
        "\n",
        "print(linguagens)  # [\"csharp\", \"java\", \"c\", \"js\", \"python\"]"
      ],
      "metadata": {
        "colab": {
          "base_uri": "https://localhost:8080/"
        },
        "id": "_z8aqzegRYlX",
        "outputId": "1135acf3-4395-4725-bb79-12d064595c7d"
      },
      "execution_count": 18,
      "outputs": [
        {
          "output_type": "stream",
          "name": "stdout",
          "text": [
            "['csharp', 'java', 'c', 'js', 'python']\n"
          ]
        }
      ]
    },
    {
      "cell_type": "code",
      "source": [
        "linguagens = [\"python\", \"js\", \"c\", \"java\", \"csharp\"]\n",
        "linguagens.sort()  # [\"c\", \"csharp\", \"java\", \"js\", \"python\"]\n",
        "print(linguagens)\n",
        "\n",
        "linguagens = [\"python\", \"js\", \"c\", \"java\", \"csharp\"]\n",
        "linguagens.sort(reverse=True)  # [\"python\", \"js\", \"java\", \"csharp\", \"c\"]\n",
        "print(linguagens)\n",
        "\n",
        "linguagens = [\"python\", \"js\", \"c\", \"java\", \"csharp\"]\n",
        "linguagens.sort(key=lambda x: len(x))  # [\"c\", \"js\", \"java\", \"python\", \"csharp\"]\n",
        "print(linguagens)\n",
        "\n",
        "linguagens = [\"python\", \"js\", \"c\", \"java\", \"csharp\"]\n",
        "linguagens.sort(key=lambda x: len(x), reverse=True)  # [\"python\", \"csharp\", \"java\", \"js\", \"c\"]\n",
        "print(linguagens)"
      ],
      "metadata": {
        "colab": {
          "base_uri": "https://localhost:8080/"
        },
        "id": "VBuERT85Rc0V",
        "outputId": "fb4e3ab6-2b55-4e67-8cec-75902d39deb6"
      },
      "execution_count": 19,
      "outputs": [
        {
          "output_type": "stream",
          "name": "stdout",
          "text": [
            "['c', 'csharp', 'java', 'js', 'python']\n",
            "['python', 'js', 'java', 'csharp', 'c']\n",
            "['c', 'js', 'java', 'python', 'csharp']\n",
            "['python', 'csharp', 'java', 'js', 'c']\n"
          ]
        }
      ]
    },
    {
      "cell_type": "code",
      "source": [
        "linguagens = [\"python\", \"js\", \"c\", \"java\", \"csharp\"]\n",
        "\n",
        "print(len(linguagens))  # 5"
      ],
      "metadata": {
        "colab": {
          "base_uri": "https://localhost:8080/"
        },
        "id": "OMDtG5Y0RiNM",
        "outputId": "527e461a-bbf3-406f-e584-dbe4e4af5b37"
      },
      "execution_count": 20,
      "outputs": [
        {
          "output_type": "stream",
          "name": "stdout",
          "text": [
            "5\n"
          ]
        }
      ]
    },
    {
      "cell_type": "code",
      "source": [
        "linguagens = [\"python\", \"js\", \"c\", \"java\", \"csharp\"]\n",
        "\n",
        "print(sorted(linguagens, key=lambda x: len(x)))  # [\"c\", \"js\", \"java\", \"python\", \"csharp\"]\n",
        "print(sorted(linguagens, key=lambda x: len(x), reverse=True))  # [\"python\", \"csharp\", \"java\", \"js\", \"c\"]"
      ],
      "metadata": {
        "colab": {
          "base_uri": "https://localhost:8080/"
        },
        "id": "Is6HCmR8Rwns",
        "outputId": "7b91678e-9ed3-49ef-9638-b022956cc327"
      },
      "execution_count": 21,
      "outputs": [
        {
          "output_type": "stream",
          "name": "stdout",
          "text": [
            "['c', 'js', 'java', 'python', 'csharp']\n",
            "['python', 'csharp', 'java', 'js', 'c']\n"
          ]
        }
      ]
    },
    {
      "cell_type": "code",
      "source": [],
      "metadata": {
        "id": "TN0E3JbXRzr1"
      },
      "execution_count": null,
      "outputs": []
    },
    {
      "cell_type": "markdown",
      "source": [
        "## Tuplas:\n"
      ],
      "metadata": {
        "id": "ELQQyJRYSBDv"
      }
    },
    {
      "cell_type": "code",
      "source": [
        "frutas = (\n",
        "    \"laranja\",\n",
        "    \"pera\",\n",
        "    \"uva\",\n",
        ")\n",
        "print(frutas)\n",
        "\n",
        "letras = tuple(\"python\")\n",
        "print(letras)\n",
        "\n",
        "numeros = tuple([1, 2, 3, 4])\n",
        "print(numeros)\n",
        "\n",
        "pais = (\"Brasil\",)\n",
        "print(pais)"
      ],
      "metadata": {
        "colab": {
          "base_uri": "https://localhost:8080/"
        },
        "id": "Opu8I0WHSCy1",
        "outputId": "910c188f-d83d-4468-8e31-6fb6af43373a"
      },
      "execution_count": 22,
      "outputs": [
        {
          "output_type": "stream",
          "name": "stdout",
          "text": [
            "('laranja', 'pera', 'uva')\n",
            "('p', 'y', 't', 'h', 'o', 'n')\n",
            "(1, 2, 3, 4)\n",
            "('Brasil',)\n"
          ]
        }
      ]
    },
    {
      "cell_type": "code",
      "source": [
        "frutas = (\"maçã\", \"laranja\", \"uva\", \"pera\",)\n",
        "\n",
        "print(frutas[0])  # maçã\n",
        "print(frutas[2])  # uva"
      ],
      "metadata": {
        "colab": {
          "base_uri": "https://localhost:8080/"
        },
        "id": "RarPJPP_SFFN",
        "outputId": "003dfd1e-0c7a-42fd-f474-a2fd717eee73"
      },
      "execution_count": 23,
      "outputs": [
        {
          "output_type": "stream",
          "name": "stdout",
          "text": [
            "maçã\n",
            "uva\n"
          ]
        }
      ]
    },
    {
      "cell_type": "code",
      "source": [
        "frutas = (\n",
        "    \"maçã\",\n",
        "    \"laranja\",\n",
        "    \"uva\",\n",
        "    \"pera\",\n",
        ")\n",
        "\n",
        "print(frutas[-1])  # pera\n",
        "print(frutas[-3])  # laranja"
      ],
      "metadata": {
        "colab": {
          "base_uri": "https://localhost:8080/"
        },
        "id": "zHa2xcViSIb1",
        "outputId": "1e427a9e-3f63-4632-e1dd-c556ecb57ab0"
      },
      "execution_count": 24,
      "outputs": [
        {
          "output_type": "stream",
          "name": "stdout",
          "text": [
            "pera\n",
            "laranja\n"
          ]
        }
      ]
    },
    {
      "cell_type": "code",
      "source": [
        "matriz = (\n",
        "    (1, \"a\", 2),\n",
        "    (\"b\", 3, 4),\n",
        "    (6, 5, \"c\"),\n",
        ")\n",
        "\n",
        "print(matriz[0])  # (1, \"a\", 2)\n",
        "print(matriz[0][0])  # 1\n",
        "print(matriz[0][-1])  # 2\n",
        "print(matriz[-1][-1])  # \"c\""
      ],
      "metadata": {
        "colab": {
          "base_uri": "https://localhost:8080/"
        },
        "id": "k-szQdgjSLNl",
        "outputId": "effeb5d4-55c7-4a4b-96b3-ec3606a08b0d"
      },
      "execution_count": 25,
      "outputs": [
        {
          "output_type": "stream",
          "name": "stdout",
          "text": [
            "(1, 'a', 2)\n",
            "1\n",
            "2\n",
            "c\n"
          ]
        }
      ]
    },
    {
      "cell_type": "code",
      "source": [
        "tupla = (\"p\", \"y\", \"t\", \"h\", \"o\", \"n\",)\n",
        "\n",
        "print(tupla[2:])  # (\"t\", \"h\", \"o\", \"n\")\n",
        "print(tupla[:2])  # (\"p\", \"y\")\n",
        "print(tupla[1:3])  # (\"y\", \"t\")\n",
        "print(tupla[0:3:2])  # (\"p\", \"t\")\n",
        "print(tupla[::])  # (\"p\", \"y\", \"t\", \"h\", \"o\", \"n\")\n",
        "print(tupla[::-1])  # (\"n\", \"o\", \"h\", \"t\", \"y\", \"p\")"
      ],
      "metadata": {
        "colab": {
          "base_uri": "https://localhost:8080/"
        },
        "id": "xruaoHYVSNvd",
        "outputId": "8703ec80-e819-4666-d99d-0be8c2bde18a"
      },
      "execution_count": 26,
      "outputs": [
        {
          "output_type": "stream",
          "name": "stdout",
          "text": [
            "('t', 'h', 'o', 'n')\n",
            "('p', 'y')\n",
            "('y', 't')\n",
            "('p', 't')\n",
            "('p', 'y', 't', 'h', 'o', 'n')\n",
            "('n', 'o', 'h', 't', 'y', 'p')\n"
          ]
        }
      ]
    },
    {
      "cell_type": "code",
      "source": [
        "carros = (\n",
        "    \"gol\",\n",
        "    \"celta\",\n",
        "    \"palio\",\n",
        ")\n",
        "\n",
        "for carro in carros:\n",
        "    print(carro)\n",
        "\n",
        "\n",
        "for indice, carro in enumerate(carros):\n",
        "    print(f\"{indice}: {carro}\")"
      ],
      "metadata": {
        "colab": {
          "base_uri": "https://localhost:8080/"
        },
        "id": "hGgTO0D6SQy8",
        "outputId": "a2ecee88-f0c7-4ee3-8e0b-acf7aca3d0a3"
      },
      "execution_count": 27,
      "outputs": [
        {
          "output_type": "stream",
          "name": "stdout",
          "text": [
            "gol\n",
            "celta\n",
            "palio\n",
            "0: gol\n",
            "1: celta\n",
            "2: palio\n"
          ]
        }
      ]
    },
    {
      "cell_type": "code",
      "source": [
        "cores = (\n",
        "    \"vermelho\",\n",
        "    \"azul\",\n",
        "    \"verde\",\n",
        "    \"azul\",\n",
        ")\n",
        "\n",
        "print(cores.count(\"vermelho\"))  # 1\n",
        "print(cores.count(\"azul\"))  # 2\n",
        "print(cores.count(\"verde\"))  # 1"
      ],
      "metadata": {
        "colab": {
          "base_uri": "https://localhost:8080/"
        },
        "id": "XBDnmpWDSUcM",
        "outputId": "03ac3a8a-244c-4c07-f5b2-0e802e999a79"
      },
      "execution_count": 28,
      "outputs": [
        {
          "output_type": "stream",
          "name": "stdout",
          "text": [
            "1\n",
            "2\n",
            "1\n"
          ]
        }
      ]
    },
    {
      "cell_type": "code",
      "source": [
        "linguagens = (\"python\", \"js\", \"c\", \"java\", \"csharp\",)\n",
        "\n",
        "print(linguagens.index(\"java\"))  # 3\n",
        "print(linguagens.index(\"python\"))  # 0"
      ],
      "metadata": {
        "colab": {
          "base_uri": "https://localhost:8080/"
        },
        "id": "ExCrZGRHSYP1",
        "outputId": "cc6b3ad9-cbda-496d-821b-10fc89c518fc"
      },
      "execution_count": 29,
      "outputs": [
        {
          "output_type": "stream",
          "name": "stdout",
          "text": [
            "3\n",
            "0\n"
          ]
        }
      ]
    },
    {
      "cell_type": "code",
      "source": [
        "linguagens = (\n",
        "    \"python\",\n",
        "    \"js\",\n",
        "    \"c\",\n",
        "    \"java\",\n",
        "    \"csharp\",\n",
        ")\n",
        "\n",
        "print(len(linguagens))  # 5"
      ],
      "metadata": {
        "colab": {
          "base_uri": "https://localhost:8080/"
        },
        "id": "yHicWmjZSbBM",
        "outputId": "25aeab80-db10-4f08-fb60-9330d8bb8027"
      },
      "execution_count": 30,
      "outputs": [
        {
          "output_type": "stream",
          "name": "stdout",
          "text": [
            "5\n"
          ]
        }
      ]
    },
    {
      "cell_type": "code",
      "source": [],
      "metadata": {
        "id": "Xao6TrSiSdkF"
      },
      "execution_count": null,
      "outputs": []
    },
    {
      "cell_type": "markdown",
      "source": [
        "## Conjuntos:"
      ],
      "metadata": {
        "id": "Wfv6uWq_SfKx"
      }
    },
    {
      "cell_type": "code",
      "source": [
        "numeros = set([1, 2, 3, 1, 3, 4])\n",
        "print(numeros)  # {1, 2, 3, 4}\n",
        "\n",
        "letras = set(\"abacaxi\")\n",
        "print(letras)  # {\"b\", \"a\", \"c\", \"x\", \"i\"}\n",
        "\n",
        "carros = set((\"palio\", \"gol\", \"celta\", \"palio\"))\n",
        "print(carros)  # {\"gol\", \"celta\", \"palio\"}"
      ],
      "metadata": {
        "colab": {
          "base_uri": "https://localhost:8080/"
        },
        "id": "TCgv0-EUSij1",
        "outputId": "b8cb63b6-ceb5-418b-98e1-c824cea1f8cf"
      },
      "execution_count": 31,
      "outputs": [
        {
          "output_type": "stream",
          "name": "stdout",
          "text": [
            "{1, 2, 3, 4}\n",
            "{'i', 'b', 'c', 'x', 'a'}\n",
            "{'gol', 'palio', 'celta'}\n"
          ]
        }
      ]
    },
    {
      "cell_type": "code",
      "source": [
        "numeros = {1, 2, 3, 2}\n",
        "\n",
        "numeros = list(numeros)\n",
        "\n",
        "print(numeros[0])"
      ],
      "metadata": {
        "colab": {
          "base_uri": "https://localhost:8080/"
        },
        "id": "XswwNGAwSlZ8",
        "outputId": "2a20a051-2642-4a9b-e697-00cd5df32a44"
      },
      "execution_count": 32,
      "outputs": [
        {
          "output_type": "stream",
          "name": "stdout",
          "text": [
            "1\n"
          ]
        }
      ]
    },
    {
      "cell_type": "code",
      "source": [
        "carros = {\"gol\", \"celta\", \"palio\"}\n",
        "\n",
        "for carro in carros:\n",
        "    print(carro)\n",
        "\n",
        "for indice, carro in enumerate(carros):\n",
        "    print(f\"{indice}: {carro}\")"
      ],
      "metadata": {
        "colab": {
          "base_uri": "https://localhost:8080/"
        },
        "id": "t9ziQYo4SoC9",
        "outputId": "502c963b-5acf-4932-84ad-d59396d7bc2a"
      },
      "execution_count": 33,
      "outputs": [
        {
          "output_type": "stream",
          "name": "stdout",
          "text": [
            "gol\n",
            "palio\n",
            "celta\n",
            "0: gol\n",
            "1: palio\n",
            "2: celta\n"
          ]
        }
      ]
    },
    {
      "cell_type": "code",
      "source": [
        "conjunto_a = {1, 2}\n",
        "conjunto_b = {3, 4}\n",
        "\n",
        "resultado = conjunto_a.union(conjunto_b)\n",
        "print(resultado)"
      ],
      "metadata": {
        "colab": {
          "base_uri": "https://localhost:8080/"
        },
        "id": "a9q9s8hNSrRd",
        "outputId": "08e16ac3-27d1-41a5-d24e-f681a74e325c"
      },
      "execution_count": 34,
      "outputs": [
        {
          "output_type": "stream",
          "name": "stdout",
          "text": [
            "{1, 2, 3, 4}\n"
          ]
        }
      ]
    },
    {
      "cell_type": "code",
      "source": [
        "conjunto_a = {1, 2, 3}\n",
        "conjunto_b = {2, 3, 4}\n",
        "\n",
        "resultado = conjunto_a.intersection(conjunto_b)\n",
        "print(resultado)"
      ],
      "metadata": {
        "colab": {
          "base_uri": "https://localhost:8080/"
        },
        "id": "HLX9aOGeSuQt",
        "outputId": "15d4f91c-ec76-430a-82b9-590b36129851"
      },
      "execution_count": 35,
      "outputs": [
        {
          "output_type": "stream",
          "name": "stdout",
          "text": [
            "{2, 3}\n"
          ]
        }
      ]
    },
    {
      "cell_type": "code",
      "source": [
        "conjunto_a = {1, 2, 3}\n",
        "conjunto_b = {2, 3, 4}\n",
        "\n",
        "resultado = conjunto_a.difference(conjunto_b)\n",
        "print(resultado)\n",
        "\n",
        "resultado = conjunto_b.difference(conjunto_a)\n",
        "print(resultado)"
      ],
      "metadata": {
        "colab": {
          "base_uri": "https://localhost:8080/"
        },
        "id": "j_AGXxy_SxVl",
        "outputId": "299d289a-4aed-47dd-d56a-77c1b885bdb9"
      },
      "execution_count": 36,
      "outputs": [
        {
          "output_type": "stream",
          "name": "stdout",
          "text": [
            "{1}\n",
            "{4}\n"
          ]
        }
      ]
    },
    {
      "cell_type": "code",
      "source": [
        "conjunto_a = {1, 2, 3}\n",
        "conjunto_b = {2, 3, 4}\n",
        "\n",
        "resultado = conjunto_a.symmetric_difference(conjunto_b)\n",
        "print(resultado)"
      ],
      "metadata": {
        "colab": {
          "base_uri": "https://localhost:8080/"
        },
        "id": "BncqjsnfS2A9",
        "outputId": "3672f2af-3f0a-45ce-fe58-c3800c2bb2c0"
      },
      "execution_count": 37,
      "outputs": [
        {
          "output_type": "stream",
          "name": "stdout",
          "text": [
            "{1, 4}\n"
          ]
        }
      ]
    },
    {
      "cell_type": "code",
      "source": [
        "conjunto_a = {1, 2, 3}\n",
        "conjunto_b = {4, 1, 2, 5, 6, 3}\n",
        "\n",
        "resultado = conjunto_a.issubset(conjunto_b)  # True\n",
        "print(resultado)\n",
        "\n",
        "resultado = conjunto_b.issubset(conjunto_a)  # False\n",
        "print(resultado)"
      ],
      "metadata": {
        "colab": {
          "base_uri": "https://localhost:8080/"
        },
        "id": "W7-RwXguS739",
        "outputId": "d6082413-b3b5-48c1-fce4-7528316d4c4f"
      },
      "execution_count": 38,
      "outputs": [
        {
          "output_type": "stream",
          "name": "stdout",
          "text": [
            "True\n",
            "False\n"
          ]
        }
      ]
    },
    {
      "cell_type": "code",
      "source": [
        "conjunto_a = {1, 2, 3, 4, 5}\n",
        "conjunto_b = {6, 7, 8, 9}\n",
        "conjunto_c = {1, 0}\n",
        "\n",
        "resultado = conjunto_a.isdisjoint(conjunto_b)  # True\n",
        "print(resultado)\n",
        "\n",
        "resultado = conjunto_a.isdisjoint(conjunto_c)  # False\n",
        "print(resultado)"
      ],
      "metadata": {
        "colab": {
          "base_uri": "https://localhost:8080/"
        },
        "id": "B0-2f8cFTAl1",
        "outputId": "def23c17-916a-4495-b886-3435810583d5"
      },
      "execution_count": 41,
      "outputs": [
        {
          "output_type": "stream",
          "name": "stdout",
          "text": [
            "True\n",
            "False\n"
          ]
        }
      ]
    },
    {
      "cell_type": "code",
      "source": [
        "sorteio = {1, 23}\n",
        "\n",
        "sorteio.add(25)  # {1, 23, 25}\n",
        "print(sorteio)\n",
        "\n",
        "sorteio.add(42)  # {1, 23, 25, 42}\n",
        "print(sorteio)\n",
        "\n",
        "sorteio.add(25)  # {1, 23, 25, 42}\n",
        "print(sorteio)"
      ],
      "metadata": {
        "colab": {
          "base_uri": "https://localhost:8080/"
        },
        "id": "aEWKnMkDTQI9",
        "outputId": "f3ea9657-e26e-4c31-ac3b-cb868461878c"
      },
      "execution_count": 42,
      "outputs": [
        {
          "output_type": "stream",
          "name": "stdout",
          "text": [
            "{1, 25, 23}\n",
            "{1, 42, 25, 23}\n",
            "{1, 42, 25, 23}\n"
          ]
        }
      ]
    },
    {
      "cell_type": "code",
      "source": [
        "sorteio = {1, 23}\n",
        "\n",
        "print(sorteio)  # {1,23}\n",
        "\n",
        "sorteio.clear()\n",
        "\n",
        "print(sorteio)  # {}"
      ],
      "metadata": {
        "colab": {
          "base_uri": "https://localhost:8080/"
        },
        "id": "GvNVFBNWTUZt",
        "outputId": "423452fd-43f3-47e6-88a7-76def3a24158"
      },
      "execution_count": 43,
      "outputs": [
        {
          "output_type": "stream",
          "name": "stdout",
          "text": [
            "{1, 23}\n",
            "set()\n"
          ]
        }
      ]
    },
    {
      "cell_type": "code",
      "source": [
        "sorteio = {1, 23}\n",
        "\n",
        "print(sorteio)  # {1, 23}\n",
        "\n",
        "sorteio.copy()\n",
        "\n",
        "print(sorteio)  # {1, 23}"
      ],
      "metadata": {
        "colab": {
          "base_uri": "https://localhost:8080/"
        },
        "id": "GxvsTiiXTXod",
        "outputId": "c499b0f5-b2b3-4975-e28a-95d62b6962a4"
      },
      "execution_count": 44,
      "outputs": [
        {
          "output_type": "stream",
          "name": "stdout",
          "text": [
            "{1, 23}\n",
            "{1, 23}\n"
          ]
        }
      ]
    },
    {
      "cell_type": "code",
      "source": [
        "numeros = {1, 2, 3, 1, 2, 4, 5, 5, 6, 7, 8, 9, 0}\n",
        "\n",
        "print(numeros)  # {1, 2, 3, 4, 5, 6, 7, 8, 9, 0}\n",
        "\n",
        "numeros.discard(1)\n",
        "numeros.discard(45)\n",
        "\n",
        "print(numeros)  # {2, 3, 4, 5, 6, 7, 8, 9, 0}"
      ],
      "metadata": {
        "colab": {
          "base_uri": "https://localhost:8080/"
        },
        "id": "pr-iwvRdTa0d",
        "outputId": "5aa26196-78cb-4255-96f6-ef4747f76c33"
      },
      "execution_count": 45,
      "outputs": [
        {
          "output_type": "stream",
          "name": "stdout",
          "text": [
            "{0, 1, 2, 3, 4, 5, 6, 7, 8, 9}\n",
            "{0, 2, 3, 4, 5, 6, 7, 8, 9}\n"
          ]
        }
      ]
    },
    {
      "cell_type": "code",
      "source": [
        "numeros = {1, 2, 3, 1, 2, 4, 5, 5, 6, 7, 8, 9, 0}\n",
        "\n",
        "print(numeros)  # {0, 1, 2, 3, 4, 5, 6, 7, 8, 9}\n",
        "print(numeros.pop())  # 0\n",
        "print(numeros.pop())  # 1\n",
        "print(numeros)  # {2, 3, 4, 5, 6, 7, 8, 9}"
      ],
      "metadata": {
        "colab": {
          "base_uri": "https://localhost:8080/"
        },
        "id": "CSvtpt2nTOTN",
        "outputId": "4d728d07-d286-42cc-f10c-4b18d6f730f7"
      },
      "execution_count": 46,
      "outputs": [
        {
          "output_type": "stream",
          "name": "stdout",
          "text": [
            "{0, 1, 2, 3, 4, 5, 6, 7, 8, 9}\n",
            "0\n",
            "1\n",
            "{2, 3, 4, 5, 6, 7, 8, 9}\n"
          ]
        }
      ]
    },
    {
      "cell_type": "code",
      "source": [
        "numeros = {1, 2, 3, 1, 2, 4, 5, 5, 6, 7, 8, 9, 0}\n",
        "\n",
        "print(numeros)  # {0, 1, 2, 3, 4, 5, 6, 7, 8, 9}\n",
        "print(numeros.remove(0))  # 0\n",
        "print(numeros)  # {1, 2, 3, 4, 5, 6, 7, 8, 9}"
      ],
      "metadata": {
        "colab": {
          "base_uri": "https://localhost:8080/"
        },
        "id": "4ma33x51T15O",
        "outputId": "8116c526-f174-4a4c-8cf9-50fbb21ea9d0"
      },
      "execution_count": 47,
      "outputs": [
        {
          "output_type": "stream",
          "name": "stdout",
          "text": [
            "{0, 1, 2, 3, 4, 5, 6, 7, 8, 9}\n",
            "None\n",
            "{1, 2, 3, 4, 5, 6, 7, 8, 9}\n"
          ]
        }
      ]
    },
    {
      "cell_type": "code",
      "source": [
        "numeros = {1, 2, 3, 1, 2, 4, 5, 5, 6, 7, 8, 9, 0}\n",
        "\n",
        "print(len(numeros))  # 10"
      ],
      "metadata": {
        "colab": {
          "base_uri": "https://localhost:8080/"
        },
        "id": "m4xVjfH0T-tt",
        "outputId": "9ae5aab1-1f96-401d-b445-e9018d1c06bd"
      },
      "execution_count": 48,
      "outputs": [
        {
          "output_type": "stream",
          "name": "stdout",
          "text": [
            "10\n"
          ]
        }
      ]
    },
    {
      "cell_type": "code",
      "source": [
        "numeros = {1, 2, 3, 1, 2, 4, 5, 5, 6, 7, 8, 9, 0}\n",
        "\n",
        "print(1 in numeros)  # True\n",
        "print(10 in numeros)  # False"
      ],
      "metadata": {
        "colab": {
          "base_uri": "https://localhost:8080/"
        },
        "id": "fW41B1ipUC2f",
        "outputId": "8148ade3-bad3-4781-9d87-db921b0d2a19"
      },
      "execution_count": 49,
      "outputs": [
        {
          "output_type": "stream",
          "name": "stdout",
          "text": [
            "True\n",
            "False\n"
          ]
        }
      ]
    },
    {
      "cell_type": "code",
      "source": [],
      "metadata": {
        "id": "bC6Pw_MgUHN-"
      },
      "execution_count": null,
      "outputs": []
    },
    {
      "cell_type": "markdown",
      "source": [
        "## Dicionários:\n"
      ],
      "metadata": {
        "id": "uaLShttGUQk4"
      }
    },
    {
      "cell_type": "code",
      "source": [
        "pessoa = {\"nome\": \"Guilherme\", \"idade\": 28}\n",
        "print(pessoa)\n",
        "\n",
        "pessoa = dict(nome=\"Guilherme\", idade=28)\n",
        "print(pessoa)\n",
        "\n",
        "pessoa[\"telefone\"] = \"3333-1234\"  # {\"nome\": \"Guilherme\", \"idade\": 28, \"telefone\": \"3333-1234\"}\n",
        "print(pessoa)"
      ],
      "metadata": {
        "colab": {
          "base_uri": "https://localhost:8080/"
        },
        "id": "2ceHNGsnUUr3",
        "outputId": "d318c6e9-d5d1-49c7-efb3-35d1d689b664"
      },
      "execution_count": 50,
      "outputs": [
        {
          "output_type": "stream",
          "name": "stdout",
          "text": [
            "{'nome': 'Guilherme', 'idade': 28}\n",
            "{'nome': 'Guilherme', 'idade': 28}\n",
            "{'nome': 'Guilherme', 'idade': 28, 'telefone': '3333-1234'}\n"
          ]
        }
      ]
    },
    {
      "cell_type": "code",
      "source": [
        "dados = {\"nome\": \"Guilherme\", \"idade\": 28, \"telefone\": \"3333-1234\"}\n",
        "\n",
        "print(dados[\"nome\"])  # \"Guilherme\"\n",
        "print(dados[\"idade\"])  # 28\n",
        "print(dados[\"telefone\"])  # \"3333-1234\"\n",
        "\n",
        "dados[\"nome\"] = \"Maria\"\n",
        "dados[\"idade\"] = 18\n",
        "dados[\"telefone\"] = \"9988-1781\"\n",
        "\n",
        "print(dados)  # {\"nome\": \"Maria\", \"idade\": 18, \"telefone\": \"9988-1781\"}"
      ],
      "metadata": {
        "colab": {
          "base_uri": "https://localhost:8080/"
        },
        "id": "z7ZmQxzKUXp1",
        "outputId": "9adf8f6d-ec8c-4e24-8c2c-016f5956e35a"
      },
      "execution_count": 51,
      "outputs": [
        {
          "output_type": "stream",
          "name": "stdout",
          "text": [
            "Guilherme\n",
            "28\n",
            "3333-1234\n",
            "{'nome': 'Maria', 'idade': 18, 'telefone': '9988-1781'}\n"
          ]
        }
      ]
    },
    {
      "cell_type": "code",
      "source": [
        "contatos = {\n",
        "    \"guilherme@gmail.com\": {\"nome\": \"Guilherme\", \"telefone\": \"3333-2221\"},\n",
        "    \"giovanna@gmail.com\": {\"nome\": \"Giovanna\", \"telefone\": \"3443-2121\"},\n",
        "    \"chappie@gmail.com\": {\"nome\": \"Chappie\", \"telefone\": \"3344-9871\"},\n",
        "    \"melaine@gmail.com\": {\"nome\": \"Melaine\", \"telefone\": \"3333-7766\"},\n",
        "}\n",
        "\n",
        "telefone = contatos[\"giovanna@gmail.com\"][\"telefone\"]  # \"3443-2121\"\n",
        "print(telefone)"
      ],
      "metadata": {
        "colab": {
          "base_uri": "https://localhost:8080/"
        },
        "id": "zAhFy4HLUaym",
        "outputId": "985ced11-9c72-44ac-aa17-0881c70ed106"
      },
      "execution_count": 52,
      "outputs": [
        {
          "output_type": "stream",
          "name": "stdout",
          "text": [
            "3443-2121\n"
          ]
        }
      ]
    },
    {
      "cell_type": "code",
      "source": [
        "contatos = {\n",
        "    \"guilherme@gmail.com\": {\"nome\": \"Guilherme\", \"telefone\": \"3333-2221\"},\n",
        "    \"giovanna@gmail.com\": {\"nome\": \"Giovanna\", \"telefone\": \"3443-2121\"},\n",
        "    \"chappie@gmail.com\": {\"nome\": \"Chappie\", \"telefone\": \"3344-9871\"},\n",
        "    \"melaine@gmail.com\": {\"nome\": \"Melaine\", \"telefone\": \"3333-7766\"},\n",
        "}\n",
        "\n",
        "for chave in contatos:\n",
        "    print(chave, contatos[chave])\n",
        "\n",
        "print(\"=\" * 100)\n",
        "\n",
        "for chave, valor in contatos.items():\n",
        "    print(chave, valor)"
      ],
      "metadata": {
        "colab": {
          "base_uri": "https://localhost:8080/"
        },
        "id": "09J-6lN5Uene",
        "outputId": "dee1bff6-3e69-4ab5-e1eb-ad6a1a15ed72"
      },
      "execution_count": 53,
      "outputs": [
        {
          "output_type": "stream",
          "name": "stdout",
          "text": [
            "guilherme@gmail.com {'nome': 'Guilherme', 'telefone': '3333-2221'}\n",
            "giovanna@gmail.com {'nome': 'Giovanna', 'telefone': '3443-2121'}\n",
            "chappie@gmail.com {'nome': 'Chappie', 'telefone': '3344-9871'}\n",
            "melaine@gmail.com {'nome': 'Melaine', 'telefone': '3333-7766'}\n",
            "====================================================================================================\n",
            "guilherme@gmail.com {'nome': 'Guilherme', 'telefone': '3333-2221'}\n",
            "giovanna@gmail.com {'nome': 'Giovanna', 'telefone': '3443-2121'}\n",
            "chappie@gmail.com {'nome': 'Chappie', 'telefone': '3344-9871'}\n",
            "melaine@gmail.com {'nome': 'Melaine', 'telefone': '3333-7766'}\n"
          ]
        }
      ]
    },
    {
      "cell_type": "code",
      "source": [
        "contatos = {\n",
        "    \"guilherme@gmail.com\": {\"nome\": \"Guilherme\", \"telefone\": \"3333-2221\"},\n",
        "    \"giovanna@gmail.com\": {\"nome\": \"Giovanna\", \"telefone\": \"3443-2121\"},\n",
        "    \"chappie@gmail.com\": {\"nome\": \"Chappie\", \"telefone\": \"3344-9871\"},\n",
        "    \"melaine@gmail.com\": {\"nome\": \"Melaine\", \"telefone\": \"3333-7766\"},\n",
        "}\n",
        "\n",
        "contatos.clear()\n",
        "print(contatos)  # {}"
      ],
      "metadata": {
        "colab": {
          "base_uri": "https://localhost:8080/"
        },
        "id": "OydNiLtUUjHV",
        "outputId": "9a366721-839f-4b9f-fb1c-d69d5095f505"
      },
      "execution_count": 54,
      "outputs": [
        {
          "output_type": "stream",
          "name": "stdout",
          "text": [
            "{}\n"
          ]
        }
      ]
    },
    {
      "cell_type": "code",
      "source": [
        "contatos = {\"guilherme@gmail.com\": {\"nome\": \"Guilherme\", \"telefone\": \"3333-2221\"}}\n",
        "\n",
        "copia = contatos.copy()\n",
        "copia[\"guilherme@gmail.com\"] = {\"nome\": \"Gui\"}\n",
        "\n",
        "print(contatos[\"guilherme@gmail.com\"])  # {\"nome\": \"Guilherme\", \"telefone\": \"3333-2221\"}\n",
        "\n",
        "print(copia[\"guilherme@gmail.com\"])  # {\"nome\": \"Gui\"}"
      ],
      "metadata": {
        "colab": {
          "base_uri": "https://localhost:8080/"
        },
        "id": "OAyLhRGoUmct",
        "outputId": "0ebf1ccc-1042-4d3e-dd34-26e4464b0cc4"
      },
      "execution_count": 55,
      "outputs": [
        {
          "output_type": "stream",
          "name": "stdout",
          "text": [
            "{'nome': 'Guilherme', 'telefone': '3333-2221'}\n",
            "{'nome': 'Gui'}\n"
          ]
        }
      ]
    },
    {
      "cell_type": "code",
      "source": [
        "resultado = dict.fromkeys([\"nome\", \"telefone\"])  # {\"nome\": None, \"telefone\": None}\n",
        "print(resultado)\n",
        "\n",
        "resultado = dict.fromkeys([\"nome\", \"telefone\"], \"vazio\")  # {\"nome\": \"vazio\", \"telefone\": \"vazio\"}\n",
        "print(resultado)"
      ],
      "metadata": {
        "colab": {
          "base_uri": "https://localhost:8080/"
        },
        "id": "73oa_xGTUqT9",
        "outputId": "b0be5e0c-7989-4a73-946b-9568c8cce8b8"
      },
      "execution_count": 56,
      "outputs": [
        {
          "output_type": "stream",
          "name": "stdout",
          "text": [
            "{'nome': None, 'telefone': None}\n",
            "{'nome': 'vazio', 'telefone': 'vazio'}\n"
          ]
        }
      ]
    },
    {
      "cell_type": "code",
      "source": [
        "contatos = {\"guilherme@gmail.com\": {\"nome\": \"Guilherme\", \"telefone\": \"3333-2221\"}}\n",
        "\n",
        "# contatos[\"chave\"]  # KeyError\n",
        "\n",
        "resultado = contatos.get(\"chave\")  # None\n",
        "print(resultado)\n",
        "\n",
        "resultado = contatos.get(\"chave\", {})  # {}\n",
        "print(resultado)\n",
        "\n",
        "resultado = contatos.get(\n",
        "    \"guilherme@gmail.com\", {}\n",
        ")  # {\"guilherme@gmail.com\": {\"nome\": \"Guilherme\", \"telefone\": \"3333-2221\"}\n",
        "print(resultado)"
      ],
      "metadata": {
        "colab": {
          "base_uri": "https://localhost:8080/"
        },
        "id": "MrFdplM1Utj-",
        "outputId": "f1d52795-2680-4215-e815-f42790c8e6d9"
      },
      "execution_count": 57,
      "outputs": [
        {
          "output_type": "stream",
          "name": "stdout",
          "text": [
            "None\n",
            "{}\n",
            "{'nome': 'Guilherme', 'telefone': '3333-2221'}\n"
          ]
        }
      ]
    },
    {
      "cell_type": "code",
      "source": [
        "contatos = {\"guilherme@gmail.com\": {\"nome\": \"Guilherme\", \"telefone\": \"3333-2221\"}}\n",
        "\n",
        "resultado = contatos.items()  # dict_items([('guilherme@gmail.com', {'nome': 'Guilherme', 'telefone': '3333-2221'})])\n",
        "print(resultado)"
      ],
      "metadata": {
        "colab": {
          "base_uri": "https://localhost:8080/"
        },
        "id": "I8wOJ-rhUwym",
        "outputId": "9a6dc2d4-2ca4-4cfe-9c91-4519fc311f6a"
      },
      "execution_count": 58,
      "outputs": [
        {
          "output_type": "stream",
          "name": "stdout",
          "text": [
            "dict_items([('guilherme@gmail.com', {'nome': 'Guilherme', 'telefone': '3333-2221'})])\n"
          ]
        }
      ]
    },
    {
      "cell_type": "code",
      "source": [
        "contatos = {\"guilherme@gmail.com\": {\"nome\": \"Guilherme\", \"telefone\": \"3333-2221\"}}\n",
        "\n",
        "resultado = contatos.keys()  # dict_keys(['guilherme@gmail.com'])\n",
        "print(resultado)"
      ],
      "metadata": {
        "colab": {
          "base_uri": "https://localhost:8080/"
        },
        "id": "JnJkMdOWUzg2",
        "outputId": "2a961adb-57f6-4d94-fac6-735acbae1a5f"
      },
      "execution_count": 59,
      "outputs": [
        {
          "output_type": "stream",
          "name": "stdout",
          "text": [
            "dict_keys(['guilherme@gmail.com'])\n"
          ]
        }
      ]
    },
    {
      "cell_type": "code",
      "source": [
        "contatos = {\"guilherme@gmail.com\": {\"nome\": \"Guilherme\", \"telefone\": \"3333-2221\"}}\n",
        "\n",
        "resultado = contatos.pop(\"guilherme@gmail.com\")  # {'nome': 'Guilherme', 'telefone': '3333-2221'}\n",
        "print(resultado)\n",
        "\n",
        "resultado = contatos.pop(\"guilherme@gmail.com\", {})  # {}\n",
        "print(resultado)"
      ],
      "metadata": {
        "colab": {
          "base_uri": "https://localhost:8080/"
        },
        "id": "zqrUqm8AU112",
        "outputId": "4bd5180e-2577-409d-f739-8eb7491706e6"
      },
      "execution_count": 60,
      "outputs": [
        {
          "output_type": "stream",
          "name": "stdout",
          "text": [
            "{'nome': 'Guilherme', 'telefone': '3333-2221'}\n",
            "{}\n"
          ]
        }
      ]
    },
    {
      "cell_type": "code",
      "source": [
        "contatos = {\"guilherme@gmail.com\": {\"nome\": \"Guilherme\", \"telefone\": \"3333-2221\"}}\n",
        "\n",
        "resultado = contatos.popitem()  # ('guilherme@gmail.com', {'nome': 'Guilherme', 'telefone': '3333-2221'})\n",
        "print(resultado)\n",
        "\n",
        "# contatos.popitem()  # KeyError"
      ],
      "metadata": {
        "colab": {
          "base_uri": "https://localhost:8080/"
        },
        "id": "ieb4CyU9U4nm",
        "outputId": "8665075b-c806-44c5-bb83-a57b3110c494"
      },
      "execution_count": 61,
      "outputs": [
        {
          "output_type": "stream",
          "name": "stdout",
          "text": [
            "('guilherme@gmail.com', {'nome': 'Guilherme', 'telefone': '3333-2221'})\n"
          ]
        }
      ]
    },
    {
      "cell_type": "code",
      "source": [
        "contato = {\"nome\": \"Guilherme\", \"telefone\": \"3333-2221\"}\n",
        "\n",
        "contato.setdefault(\"nome\", \"Giovanna\")  # \"Guilherme\"\n",
        "print(contato)  # {'nome': 'Guilherme', 'telefone': '3333-2221'}\n",
        "\n",
        "contato.setdefault(\"idade\", 28)  # 28\n",
        "print(contato)  # {'nome': 'Guilherme', 'telefone': '3333-2221', 'idade': 28}"
      ],
      "metadata": {
        "colab": {
          "base_uri": "https://localhost:8080/"
        },
        "id": "a_xrg6t_U67m",
        "outputId": "285d0586-e775-4149-b0f0-9fce748c8e1b"
      },
      "execution_count": 62,
      "outputs": [
        {
          "output_type": "stream",
          "name": "stdout",
          "text": [
            "{'nome': 'Guilherme', 'telefone': '3333-2221'}\n",
            "{'nome': 'Guilherme', 'telefone': '3333-2221', 'idade': 28}\n"
          ]
        }
      ]
    },
    {
      "cell_type": "code",
      "source": [
        "contatos = {\"guilherme@gmail.com\": {\"nome\": \"Guilherme\", \"telefone\": \"3333-2221\"}}\n",
        "\n",
        "contatos.update({\"guilherme@gmail.com\": {\"nome\": \"Gui\"}})\n",
        "print(contatos)  # {'guilherme@gmail.com': {'nome': 'Gui'}}\n",
        "\n",
        "contatos.update({\"giovanna@gmail.com\": {\"nome\": \"Giovanna\", \"telefone\": \"3322-8181\"}})\n",
        "# {'guilherme@gmail.com': {'nome': 'Gui'}, 'giovanna@gmail.com': {'nome': 'Giovanna', 'telefone': '3322-8181'}}\n",
        "print(contatos)"
      ],
      "metadata": {
        "colab": {
          "base_uri": "https://localhost:8080/"
        },
        "id": "Ua5ApUsfU-0I",
        "outputId": "75d2066c-b8e1-4b2b-c83a-0def5997d8bf"
      },
      "execution_count": 63,
      "outputs": [
        {
          "output_type": "stream",
          "name": "stdout",
          "text": [
            "{'guilherme@gmail.com': {'nome': 'Gui'}}\n",
            "{'guilherme@gmail.com': {'nome': 'Gui'}, 'giovanna@gmail.com': {'nome': 'Giovanna', 'telefone': '3322-8181'}}\n"
          ]
        }
      ]
    },
    {
      "cell_type": "code",
      "source": [
        "contatos = {\n",
        "    \"guilherme@gmail.com\": {\"nome\": \"Guilherme\", \"telefone\": \"3333-2221\"},\n",
        "    \"giovanna@gmail.com\": {\"nome\": \"Giovanna\", \"telefone\": \"3443-2121\"},\n",
        "    \"chappie@gmail.com\": {\"nome\": \"Chappie\", \"telefone\": \"3344-9871\"},\n",
        "    \"melaine@gmail.com\": {\"nome\": \"Melaine\", \"telefone\": \"3333-7766\"},\n",
        "}\n",
        "\n",
        "resultado = (\n",
        "    contatos.values()\n",
        ")  # dict_values([{'nome': 'Guilherme', 'telefone': '3333-2221'}, {'nome': 'Giovanna', 'telefone': '3443-2121'}, {'nome': 'Chappie', 'telefone': '3344-9871'}, {'nome': 'Melaine', 'telefone': '3333-7766'}])  # noqa\n",
        "print(resultado)"
      ],
      "metadata": {
        "colab": {
          "base_uri": "https://localhost:8080/"
        },
        "id": "RGB9pIwmVCZG",
        "outputId": "dbd372d0-f6ea-4156-b090-fb95689f5576"
      },
      "execution_count": 64,
      "outputs": [
        {
          "output_type": "stream",
          "name": "stdout",
          "text": [
            "dict_values([{'nome': 'Guilherme', 'telefone': '3333-2221'}, {'nome': 'Giovanna', 'telefone': '3443-2121'}, {'nome': 'Chappie', 'telefone': '3344-9871'}, {'nome': 'Melaine', 'telefone': '3333-7766'}])\n"
          ]
        }
      ]
    },
    {
      "cell_type": "code",
      "source": [
        "contatos = {\n",
        "    \"guilherme@gmail.com\": {\"nome\": \"Guilherme\", \"telefone\": \"3333-2221\"},\n",
        "    \"giovanna@gmail.com\": {\"nome\": \"Giovanna\", \"telefone\": \"3443-2121\"},\n",
        "    \"chappie@gmail.com\": {\"nome\": \"Chappie\", \"telefone\": \"3344-9871\"},\n",
        "    \"melaine@gmail.com\": {\"nome\": \"Melaine\", \"telefone\": \"3333-7766\"},\n",
        "}\n",
        "\n",
        "resultado = \"guilherme@gmail.com\" in contatos  # True\n",
        "print(resultado)\n",
        "\n",
        "resultado = \"megui@gmail.com\" in contatos  # False\n",
        "print(resultado)\n",
        "\n",
        "resultado = \"idade\" in contatos[\"guilherme@gmail.com\"]  # False\n",
        "print(resultado)\n",
        "\n",
        "resultado = \"telefone\" in contatos[\"giovanna@gmail.com\"]  # True\n",
        "print(resultado)"
      ],
      "metadata": {
        "colab": {
          "base_uri": "https://localhost:8080/"
        },
        "id": "XCZQNNIAVFo9",
        "outputId": "5dd8b328-9b92-4e56-e7bc-ee707ab7fa46"
      },
      "execution_count": 65,
      "outputs": [
        {
          "output_type": "stream",
          "name": "stdout",
          "text": [
            "True\n",
            "False\n",
            "False\n",
            "True\n"
          ]
        }
      ]
    },
    {
      "cell_type": "code",
      "source": [
        "contatos = {\n",
        "    \"guilherme@gmail.com\": {\"nome\": \"Guilherme\", \"telefone\": \"3333-2221\"},\n",
        "    \"giovanna@gmail.com\": {\"nome\": \"Giovanna\", \"telefone\": \"3443-2121\"},\n",
        "    \"chappie@gmail.com\": {\"nome\": \"Chappie\", \"telefone\": \"3344-9871\"},\n",
        "    \"melaine@gmail.com\": {\"nome\": \"Melaine\", \"telefone\": \"3333-7766\"},\n",
        "}\n",
        "\n",
        "del contatos[\"guilherme@gmail.com\"][\"telefone\"]\n",
        "del contatos[\"chappie@gmail.com\"]\n",
        "\n",
        "# {'guilherme@gmail.com': {'nome': 'Guilherme'}, 'giovanna@gmail.com': {'nome': 'Giovanna', 'telefone': '3443-2121'}, 'melaine@gmail.com': {'nome': 'Melaine', 'telefone': '3333-7766'}}  # noqa\n",
        "print(contatos)"
      ],
      "metadata": {
        "colab": {
          "base_uri": "https://localhost:8080/"
        },
        "id": "oFmcWUxTVJQF",
        "outputId": "6258bee4-2bda-4e71-e9ee-5702e80c828a"
      },
      "execution_count": 66,
      "outputs": [
        {
          "output_type": "stream",
          "name": "stdout",
          "text": [
            "{'guilherme@gmail.com': {'nome': 'Guilherme'}, 'giovanna@gmail.com': {'nome': 'Giovanna', 'telefone': '3443-2121'}, 'melaine@gmail.com': {'nome': 'Melaine', 'telefone': '3333-7766'}}\n"
          ]
        }
      ]
    },
    {
      "cell_type": "code",
      "source": [],
      "metadata": {
        "id": "rRqvCnKuVNP-"
      },
      "execution_count": null,
      "outputs": []
    },
    {
      "cell_type": "markdown",
      "source": [
        "## Funções:"
      ],
      "metadata": {
        "id": "pNkEA0yUVOMM"
      }
    },
    {
      "cell_type": "code",
      "source": [
        "def exibir_mensagem():\n",
        "    print(\"Olá mundo!\")\n",
        "\n",
        "\n",
        "def exibir_mensagem_2(nome):\n",
        "    print(f\"Seja bem vindo {nome}!\")\n",
        "\n",
        "\n",
        "def exibir_mensagem_3(nome=\"Anônimo\"):\n",
        "    print(f\"Seja bem vindo {nome}!\")\n",
        "\n",
        "\n",
        "exibir_mensagem()\n",
        "exibir_mensagem_2(nome=\"Guilherme\")\n",
        "exibir_mensagem_3()\n",
        "exibir_mensagem_3(nome=\"Chappie\")"
      ],
      "metadata": {
        "colab": {
          "base_uri": "https://localhost:8080/"
        },
        "id": "f91ta_JtVSZ-",
        "outputId": "f2b865af-72ef-406e-8107-760c8ea33a49"
      },
      "execution_count": 67,
      "outputs": [
        {
          "output_type": "stream",
          "name": "stdout",
          "text": [
            "Olá mundo!\n",
            "Seja bem vindo Guilherme!\n",
            "Seja bem vindo Anônimo!\n",
            "Seja bem vindo Chappie!\n"
          ]
        }
      ]
    },
    {
      "cell_type": "code",
      "source": [
        "def calcular_total(numeros):\n",
        "    return sum(numeros)\n",
        "\n",
        "\n",
        "def retorna_antecessor_e_sucessor(numero):\n",
        "    antecessor = numero - 1\n",
        "    sucessor = numero + 1\n",
        "\n",
        "    return antecessor, sucessor\n",
        "\n",
        "\n",
        "print(calcular_total([10, 20, 34]))  # 64\n",
        "print(retorna_antecessor_e_sucessor(10))  # (9, 11)"
      ],
      "metadata": {
        "colab": {
          "base_uri": "https://localhost:8080/"
        },
        "id": "J9uRxOOdVVYW",
        "outputId": "a5769159-f947-4d2b-9c5c-7ff66a473cba"
      },
      "execution_count": 68,
      "outputs": [
        {
          "output_type": "stream",
          "name": "stdout",
          "text": [
            "64\n",
            "(9, 11)\n"
          ]
        }
      ]
    },
    {
      "cell_type": "code",
      "source": [
        "def salvar_carro(marca, modelo, ano, placa):\n",
        "    # salva carro no banco de dados...\n",
        "    print(f\"Carro inserido com sucesso! {marca}/{modelo}/{ano}/{placa}\")\n",
        "\n",
        "\n",
        "salvar_carro(\"Fiat\", \"Palio\", 1999, \"ABC-1234\")\n",
        "salvar_carro(marca=\"Fiat\", modelo=\"Palio\", ano=1999, placa=\"ABC-1234\")\n",
        "salvar_carro(**{\"marca\": \"Fiat\", \"modelo\": \"Palio\", \"ano\": 1999, \"placa\": \"ABC-1234\"})"
      ],
      "metadata": {
        "colab": {
          "base_uri": "https://localhost:8080/"
        },
        "id": "0L1saLCaVXzO",
        "outputId": "b6240bf4-4b75-4aeb-c643-40085385fae2"
      },
      "execution_count": 69,
      "outputs": [
        {
          "output_type": "stream",
          "name": "stdout",
          "text": [
            "Carro inserido com sucesso! Fiat/Palio/1999/ABC-1234\n",
            "Carro inserido com sucesso! Fiat/Palio/1999/ABC-1234\n",
            "Carro inserido com sucesso! Fiat/Palio/1999/ABC-1234\n"
          ]
        }
      ]
    },
    {
      "cell_type": "code",
      "source": [
        "def exibir_poema(data_extenso, *args, **kwargs):\n",
        "    texto = \"\\n\".join(args)\n",
        "    meta_dados = \"\\n\".join([f\"{chave.title()}: {valor}\" for chave, valor in kwargs.items()])\n",
        "    mensagem = f\"{data_extenso}\\n\\n{texto}\\n\\n{meta_dados}\"\n",
        "    print(mensagem)\n",
        "\n",
        "\n",
        "exibir_poema(\n",
        "    \"Zen of Python\",\n",
        "    \"Beautiful is better than ugly.\",\n",
        "    \"Explicit is better than implicit.\",\n",
        "    \"Simple is better than complex.\",\n",
        "    \"Complex is better than complicated.\",\n",
        "    \"Flat is better than nested.\",\n",
        "    \"Sparse is better than dense.\",\n",
        "    \"Readability counts.\",\n",
        "    \"Special cases aren't special enough to break the rules.\",\n",
        "    \"Although practicality beats purity.\",\n",
        "    \"Errors should never pass silently.\",\n",
        "    \"Unless explicitly silenced.\",\n",
        "    \"In the face of ambiguity, refuse the temptation to guess.\",\n",
        "    \"There should be one-- and preferably only one --obvious way to do it.\",\n",
        "    \"Although that way may not be obvious at first unless you're Dutch.\",\n",
        "    \"Now is better than never.\",\n",
        "    \"Although never is often better than *right* now.\",\n",
        "    \"If the implementation is hard to explain, it's a bad idea.\",\n",
        "    \"If the implementation is easy to explain, it may be a good idea.\",\n",
        "    \"Namespaces are one honking great idea -- let's do more of those!\",\n",
        "    autor=\"Tim Peters\",\n",
        "    ano=1999,\n",
        ")"
      ],
      "metadata": {
        "colab": {
          "base_uri": "https://localhost:8080/"
        },
        "id": "BT-AmgPIVasu",
        "outputId": "efee63a6-7b85-4fbb-d786-2e3f48052f60"
      },
      "execution_count": 70,
      "outputs": [
        {
          "output_type": "stream",
          "name": "stdout",
          "text": [
            "Zen of Python\n",
            "\n",
            "Beautiful is better than ugly.\n",
            "Explicit is better than implicit.\n",
            "Simple is better than complex.\n",
            "Complex is better than complicated.\n",
            "Flat is better than nested.\n",
            "Sparse is better than dense.\n",
            "Readability counts.\n",
            "Special cases aren't special enough to break the rules.\n",
            "Although practicality beats purity.\n",
            "Errors should never pass silently.\n",
            "Unless explicitly silenced.\n",
            "In the face of ambiguity, refuse the temptation to guess.\n",
            "There should be one-- and preferably only one --obvious way to do it.\n",
            "Although that way may not be obvious at first unless you're Dutch.\n",
            "Now is better than never.\n",
            "Although never is often better than *right* now.\n",
            "If the implementation is hard to explain, it's a bad idea.\n",
            "If the implementation is easy to explain, it may be a good idea.\n",
            "Namespaces are one honking great idea -- let's do more of those!\n",
            "\n",
            "Autor: Tim Peters\n",
            "Ano: 1999\n"
          ]
        }
      ]
    },
    {
      "cell_type": "code",
      "source": [
        "def criar_carro(modelo, ano, placa, marca, motor, combustivel):\n",
        "    print(modelo, ano, placa, marca, motor, combustivel)\n",
        "\n",
        "\n",
        "criar_carro(\"Palio\", 1999, \"ABC-1234\", marca=\"Fiat\", motor=\"1.0\", combustivel=\"Gasolina\")\n",
        "criar_carro(modelo=\"Palio\", ano=1999, placa=\"ABC-1234\", marca=\"Fiat\", motor=\"1.0\", combustivel=\"Gasolina\")  # inválido"
      ],
      "metadata": {
        "colab": {
          "base_uri": "https://localhost:8080/"
        },
        "id": "tf0ECGrpTEZs",
        "outputId": "a6d95b8f-169a-499a-efb1-b663011dbf2d"
      },
      "execution_count": 73,
      "outputs": [
        {
          "output_type": "stream",
          "name": "stdout",
          "text": [
            "Palio 1999 ABC-1234 Fiat 1.0 Gasolina\n",
            "Palio 1999 ABC-1234 Fiat 1.0 Gasolina\n"
          ]
        }
      ]
    },
    {
      "cell_type": "code",
      "source": [
        "def somar(a, b):\n",
        "    return a + b\n",
        "\n",
        "\n",
        "def exibir_resultado(a, b, funcao):\n",
        "    resultado = funcao(a, b)\n",
        "    print(f\"O resultado da operação {a} + {b} = {resultado}\")\n",
        "\n",
        "\n",
        "exibir_resultado(10, 10, somar)  # O resultado da operação 10 + 10 = 20"
      ],
      "metadata": {
        "colab": {
          "base_uri": "https://localhost:8080/"
        },
        "id": "38AAB313QyPE",
        "outputId": "b9250107-b54d-4bf8-a4eb-2596c050aa15"
      },
      "execution_count": 74,
      "outputs": [
        {
          "output_type": "stream",
          "name": "stdout",
          "text": [
            "O resultado da operação 10 + 10 = 20\n"
          ]
        }
      ]
    },
    {
      "cell_type": "code",
      "source": [
        "salario = 2000\n",
        "\n",
        "\n",
        "def salario_bonus(bonus):\n",
        "    global salario\n",
        "    salario += bonus\n",
        "    return salario\n",
        "\n",
        "\n",
        "salario_bonus(500)  # 2500"
      ],
      "metadata": {
        "colab": {
          "base_uri": "https://localhost:8080/"
        },
        "id": "WDK3NY3QV3Qu",
        "outputId": "a2c42911-9bd5-4ccc-b6d5-3e8db728cd79"
      },
      "execution_count": 75,
      "outputs": [
        {
          "output_type": "execute_result",
          "data": {
            "text/plain": [
              "2500"
            ]
          },
          "metadata": {},
          "execution_count": 75
        }
      ]
    },
    {
      "cell_type": "code",
      "source": [],
      "metadata": {
        "id": "PCo6JdTXV6w2"
      },
      "execution_count": null,
      "outputs": []
    },
    {
      "cell_type": "markdown",
      "source": [
        "## Desafio:\n"
      ],
      "metadata": {
        "id": "3aYn43qgV9VQ"
      }
    },
    {
      "cell_type": "code",
      "source": [
        "import textwrap\n",
        "\n",
        "\n",
        "def menu():\n",
        "    menu = \"\"\"\\n\n",
        "    ================ MENU ================\n",
        "    [d]\\tDepositar\n",
        "    [s]\\tSacar\n",
        "    [e]\\tExtrato\n",
        "    [nc]\\tNova conta\n",
        "    [lc]\\tListar contas\n",
        "    [nu]\\tNovo usuário\n",
        "    [q]\\tSair\n",
        "    => \"\"\"\n",
        "    return input(textwrap.dedent(menu))\n",
        "\n",
        "\n",
        "def depositar(saldo, valor, extrato):\n",
        "    if valor > 0:\n",
        "        saldo += valor\n",
        "        extrato += f\"Depósito:\\tR$ {valor:.2f}\\n\"\n",
        "        print(\"\\n=== Depósito realizado com sucesso! ===\")\n",
        "    else:\n",
        "        print(\"\\n@@@ Operação falhou! O valor informado é inválido. @@@\")\n",
        "\n",
        "    return saldo, extrato\n",
        "\n",
        "\n",
        "def sacar(*, saldo, valor, extrato, limite, numero_saques, limite_saques):\n",
        "    excedeu_saldo = valor > saldo\n",
        "    excedeu_limite = valor > limite\n",
        "    excedeu_saques = numero_saques >= limite_saques\n",
        "\n",
        "    if excedeu_saldo:\n",
        "        print(\"\\n@@@ Operação falhou! Você não tem saldo suficiente. @@@\")\n",
        "\n",
        "    elif excedeu_limite:\n",
        "        print(\"\\n@@@ Operação falhou! O valor do saque excede o limite. @@@\")\n",
        "\n",
        "    elif excedeu_saques:\n",
        "        print(\"\\n@@@ Operação falhou! Número máximo de saques excedido. @@@\")\n",
        "\n",
        "    elif valor > 0:\n",
        "        saldo -= valor\n",
        "        extrato += f\"Saque:\\t\\tR$ {valor:.2f}\\n\"\n",
        "        numero_saques += 1\n",
        "        print(\"\\n=== Saque realizado com sucesso! ===\")\n",
        "\n",
        "    else:\n",
        "        print(\"\\n@@@ Operação falhou! O valor informado é inválido. @@@\")\n",
        "\n",
        "    return saldo, extrato\n",
        "\n",
        "\n",
        "def exibir_extrato(saldo, *, extrato):\n",
        "    print(\"\\n================ EXTRATO ================\")\n",
        "    print(\"Não foram realizadas movimentações.\" if not extrato else extrato)\n",
        "    print(f\"\\nSaldo:\\t\\tR$ {saldo:.2f}\")\n",
        "    print(\"==========================================\")\n",
        "\n",
        "\n",
        "def criar_usuario(usuarios):\n",
        "    cpf = input(\"Informe o CPF (somente número): \")\n",
        "    usuario = filtrar_usuario(cpf, usuarios)\n",
        "\n",
        "    if usuario:\n",
        "        print(\"\\n@@@ Já existe usuário com esse CPF! @@@\")\n",
        "        return\n",
        "\n",
        "    nome = input(\"Informe o nome completo: \")\n",
        "    data_nascimento = input(\"Informe a data de nascimento (dd-mm-aaaa): \")\n",
        "    endereco = input(\"Informe o endereço (logradouro, nro - bairro - cidade/sigla estado): \")\n",
        "\n",
        "    usuarios.append({\"nome\": nome, \"data_nascimento\": data_nascimento, \"cpf\": cpf, \"endereco\": endereco})\n",
        "\n",
        "    print(\"=== Usuário criado com sucesso! ===\")\n",
        "\n",
        "\n",
        "def filtrar_usuario(cpf, usuarios):\n",
        "    usuarios_filtrados = [usuario for usuario in usuarios if usuario[\"cpf\"] == cpf]\n",
        "    return usuarios_filtrados[0] if usuarios_filtrados else None\n",
        "\n",
        "\n",
        "def criar_conta(agencia, numero_conta, usuarios):\n",
        "    cpf = input(\"Informe o CPF do usuário: \")\n",
        "    usuario = filtrar_usuario(cpf, usuarios)\n",
        "\n",
        "    if usuario:\n",
        "        print(\"\\n=== Conta criada com sucesso! ===\")\n",
        "        return {\"agencia\": agencia, \"numero_conta\": numero_conta, \"usuario\": usuario}\n",
        "\n",
        "    print(\"\\n@@@ Usuário não encontrado, fluxo de criação de conta encerrado! @@@\")\n",
        "\n",
        "\n",
        "def listar_contas(contas):\n",
        "    for conta in contas:\n",
        "        linha = f\"\"\"\\\n",
        "            Agência:\\t{conta['agencia']}\n",
        "            C/C:\\t\\t{conta['numero_conta']}\n",
        "            Titular:\\t{conta['usuario']['nome']}\n",
        "        \"\"\"\n",
        "        print(\"=\" * 100)\n",
        "        print(textwrap.dedent(linha))\n",
        "\n",
        "\n",
        "def main():\n",
        "    LIMITE_SAQUES = 3\n",
        "    AGENCIA = \"0001\"\n",
        "\n",
        "    saldo = 0\n",
        "    limite = 500\n",
        "    extrato = \"\"\n",
        "    numero_saques = 0\n",
        "    usuarios = []\n",
        "    contas = []\n",
        "\n",
        "    while True:\n",
        "        opcao = menu()\n",
        "\n",
        "        if opcao == \"d\":\n",
        "            valor = float(input(\"Informe o valor do depósito: \"))\n",
        "\n",
        "            saldo, extrato = depositar(saldo, valor, extrato)\n",
        "\n",
        "        elif opcao == \"s\":\n",
        "            valor = float(input(\"Informe o valor do saque: \"))\n",
        "\n",
        "            saldo, extrato = sacar(\n",
        "                saldo=saldo,\n",
        "                valor=valor,\n",
        "                extrato=extrato,\n",
        "                limite=limite,\n",
        "                numero_saques=numero_saques,\n",
        "                limite_saques=LIMITE_SAQUES,\n",
        "            )\n",
        "\n",
        "        elif opcao == \"e\":\n",
        "            exibir_extrato(saldo, extrato=extrato)\n",
        "\n",
        "        elif opcao == \"nu\":\n",
        "            criar_usuario(usuarios)\n",
        "\n",
        "        elif opcao == \"nc\":\n",
        "            numero_conta = len(contas) + 1\n",
        "            conta = criar_conta(AGENCIA, numero_conta, usuarios)\n",
        "\n",
        "            if conta:\n",
        "                contas.append(conta)\n",
        "\n",
        "        elif opcao == \"lc\":\n",
        "            listar_contas(contas)\n",
        "\n",
        "        elif opcao == \"q\":\n",
        "            break\n",
        "\n",
        "        else:\n",
        "            print(\"Operação inválida, por favor selecione novamente a operação desejada.\")\n",
        "\n",
        "\n",
        "main()"
      ],
      "metadata": {
        "colab": {
          "base_uri": "https://localhost:8080/"
        },
        "id": "Adezhj5_V_c-",
        "outputId": "c457357d-74e0-46ea-c61d-f61b3c1bce87"
      },
      "execution_count": 78,
      "outputs": [
        {
          "name": "stdout",
          "output_type": "stream",
          "text": [
            "\n",
            "\n",
            "================ MENU ================\n",
            "[d]\tDepositar\n",
            "[s]\tSacar\n",
            "[e]\tExtrato\n",
            "[nc]\tNova conta\n",
            "[lc]\tListar contas\n",
            "[nu]\tNovo usuário\n",
            "[q]\tSair\n",
            "=> d\n",
            "Informe o valor do depósito: 1000\n",
            "\n",
            "=== Depósito realizado com sucesso! ===\n",
            "\n",
            "\n",
            "================ MENU ================\n",
            "[d]\tDepositar\n",
            "[s]\tSacar\n",
            "[e]\tExtrato\n",
            "[nc]\tNova conta\n",
            "[lc]\tListar contas\n",
            "[nu]\tNovo usuário\n",
            "[q]\tSair\n",
            "=> nu\n",
            "Informe o CPF (somente número): julio\n",
            "Informe o nome completo: cesar\n",
            "Informe a data de nascimento (dd-mm-aaaa): 04/04/2005\n",
            "Informe o endereço (logradouro, nro - bairro - cidade/sigla estado): n,231,não sei,São Paulo/SP\n",
            "=== Usuário criado com sucesso! ===\n",
            "\n",
            "\n",
            "================ MENU ================\n",
            "[d]\tDepositar\n",
            "[s]\tSacar\n",
            "[e]\tExtrato\n",
            "[nc]\tNova conta\n",
            "[lc]\tListar contas\n",
            "[nu]\tNovo usuário\n",
            "[q]\tSair\n",
            "=> s\n",
            "Informe o valor do saque: 200\n",
            "\n",
            "=== Saque realizado com sucesso! ===\n",
            "\n",
            "\n",
            "================ MENU ================\n",
            "[d]\tDepositar\n",
            "[s]\tSacar\n",
            "[e]\tExtrato\n",
            "[nc]\tNova conta\n",
            "[lc]\tListar contas\n",
            "[nu]\tNovo usuário\n",
            "[q]\tSair\n",
            "=> lc\n",
            "\n",
            "\n",
            "================ MENU ================\n",
            "[d]\tDepositar\n",
            "[s]\tSacar\n",
            "[e]\tExtrato\n",
            "[nc]\tNova conta\n",
            "[lc]\tListar contas\n",
            "[nu]\tNovo usuário\n",
            "[q]\tSair\n",
            "=> e\n",
            "\n",
            "================ EXTRATO ================\n",
            "Depósito:\tR$ 1000.00\n",
            "Saque:\t\tR$ 200.00\n",
            "\n",
            "\n",
            "Saldo:\t\tR$ 800.00\n",
            "==========================================\n",
            "\n",
            "\n",
            "================ MENU ================\n",
            "[d]\tDepositar\n",
            "[s]\tSacar\n",
            "[e]\tExtrato\n",
            "[nc]\tNova conta\n",
            "[lc]\tListar contas\n",
            "[nu]\tNovo usuário\n",
            "[q]\tSair\n",
            "=> q\n"
          ]
        }
      ]
    },
    {
      "cell_type": "code",
      "source": [],
      "metadata": {
        "id": "nFW2vH_dWDUe"
      },
      "execution_count": null,
      "outputs": []
    },
    {
      "cell_type": "code",
      "source": [],
      "metadata": {
        "id": "Yqld-iuvQyS0"
      },
      "execution_count": 10,
      "outputs": []
    },
    {
      "cell_type": "code",
      "source": [],
      "metadata": {
        "id": "4rEVUb_5QyWc"
      },
      "execution_count": null,
      "outputs": []
    },
    {
      "cell_type": "code",
      "source": [],
      "metadata": {
        "id": "nun6FmrkPyh3"
      },
      "execution_count": null,
      "outputs": []
    }
  ]
}