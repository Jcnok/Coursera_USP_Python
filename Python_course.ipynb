{
  "nbformat": 4,
  "nbformat_minor": 0,
  "metadata": {
    "colab": {
      "provenance": [],
      "authorship_tag": "ABX9TyMSX7RDjLVKcxcc9sRd0Yvt",
      "include_colab_link": true
    },
    "kernelspec": {
      "name": "python3",
      "display_name": "Python 3"
    },
    "language_info": {
      "name": "python"
    }
  },
  "cells": [
    {
      "cell_type": "markdown",
      "metadata": {
        "id": "view-in-github",
        "colab_type": "text"
      },
      "source": [
        "<a href=\"https://colab.research.google.com/github/Jcnok/Coursera_USP_Python/blob/master/Python_course.ipynb\" target=\"_parent\"><img src=\"https://colab.research.google.com/assets/colab-badge.svg\" alt=\"Open In Colab\"/></a>"
      ]
    },
    {
      "cell_type": "markdown",
      "source": [
        "## Listas:"
      ],
      "metadata": {
        "id": "RoO8FtuRQKGW"
      }
    },
    {
      "cell_type": "code",
      "source": [
        "frutas = [\"laranja\", \"maca\", \"uva\"]\n",
        "print(frutas)\n",
        "\n",
        "frutas = []\n",
        "print(frutas)\n",
        "\n",
        "letras = list(\"python\")\n",
        "print(letras)\n",
        "\n",
        "numeros = list(range(10))\n",
        "print(numeros)\n",
        "\n",
        "carro = [\"Ferrari\", \"F8\", 4200000, 2020, 2900, \"São Paulo\", True]\n",
        "print(carro)"
      ],
      "metadata": {
        "colab": {
          "base_uri": "https://localhost:8080/"
        },
        "id": "Hk1I-H7AQNME",
        "outputId": "d230df04-0472-478d-b739-1abfa1524dc0"
      },
      "execution_count": 3,
      "outputs": [
        {
          "output_type": "stream",
          "name": "stdout",
          "text": [
            "['laranja', 'maca', 'uva']\n",
            "[]\n",
            "['p', 'y', 't', 'h', 'o', 'n']\n",
            "[0, 1, 2, 3, 4, 5, 6, 7, 8, 9]\n",
            "['Ferrari', 'F8', 4200000, 2020, 2900, 'São Paulo', True]\n"
          ]
        }
      ]
    },
    {
      "cell_type": "code",
      "source": [
        "#slice\n",
        "frutas = [\"maçã\", \"laranja\", \"uva\", \"pera\"]\n",
        "\n",
        "print(frutas[0])  # maçã\n",
        "print(frutas[2])  # uva"
      ],
      "metadata": {
        "colab": {
          "base_uri": "https://localhost:8080/"
        },
        "id": "bFtupgs9QI1o",
        "outputId": "09166905-47a4-4870-bf86-2a58be874eac"
      },
      "execution_count": 4,
      "outputs": [
        {
          "output_type": "stream",
          "name": "stdout",
          "text": [
            "maçã\n",
            "uva\n"
          ]
        }
      ]
    },
    {
      "cell_type": "code",
      "source": [
        "frutas = [\"maçã\", \"laranja\", \"uva\", \"pera\"]\n",
        "\n",
        "print(frutas[-1])  # pera\n",
        "print(frutas[-3])  # laranja"
      ],
      "metadata": {
        "colab": {
          "base_uri": "https://localhost:8080/"
        },
        "id": "-X6sR4jJQXiM",
        "outputId": "902bf5b1-300b-4a99-ee6f-388c63374991"
      },
      "execution_count": 5,
      "outputs": [
        {
          "output_type": "stream",
          "name": "stdout",
          "text": [
            "pera\n",
            "laranja\n"
          ]
        }
      ]
    },
    {
      "cell_type": "code",
      "source": [
        "matriz = [\n",
        "    [1, \"a\", 2],\n",
        "    [\"b\", 3, 4],\n",
        "    [6, 5, \"c\"]\n",
        "]\n",
        "\n",
        "print(matriz[0])  # [1, \"a\", 2]\n",
        "print(matriz[0][0])  # 1\n",
        "print(matriz[0][-1])  # 2\n",
        "print(matriz[-1][-1])  # \"c\""
      ],
      "metadata": {
        "colab": {
          "base_uri": "https://localhost:8080/"
        },
        "id": "5h0PFV2_Qd7E",
        "outputId": "3458932a-466a-4549-ad97-7940e4e04524"
      },
      "execution_count": 6,
      "outputs": [
        {
          "output_type": "stream",
          "name": "stdout",
          "text": [
            "[1, 'a', 2]\n",
            "1\n",
            "2\n",
            "c\n"
          ]
        }
      ]
    },
    {
      "cell_type": "code",
      "source": [
        "lista = [\"p\", \"y\", \"t\", \"h\", \"o\", \"n\"]\n",
        "\n",
        "print(lista[2:])  # [\"t\", \"h\", \"o\", \"n\"]\n",
        "print(lista[:2])  # [\"p\", \"y\"]\n",
        "print(lista[1:3])  # [\"y\", \"t\"]\n",
        "print(lista[0:3:2])  # [\"p\", \"t\"]\n",
        "print(lista[::])  # [\"p\", \"y\", \"t\", \"h\", \"o\", \"n\"]\n",
        "print(lista[::-1])  # [\"n\", \"o\", \"h\", \"t\", \"y\", \"p\"]"
      ],
      "metadata": {
        "colab": {
          "base_uri": "https://localhost:8080/"
        },
        "id": "q-F4yIF6Qi7c",
        "outputId": "1a6ea17f-d8a9-4318-fccf-30ecf1d346b1"
      },
      "execution_count": 7,
      "outputs": [
        {
          "output_type": "stream",
          "name": "stdout",
          "text": [
            "['t', 'h', 'o', 'n']\n",
            "['p', 'y']\n",
            "['y', 't']\n",
            "['p', 't']\n",
            "['p', 'y', 't', 'h', 'o', 'n']\n",
            "['n', 'o', 'h', 't', 'y', 'p']\n"
          ]
        }
      ]
    },
    {
      "cell_type": "code",
      "source": [
        "carros = [\"gol\", \"celta\", \"palio\"]\n",
        "\n",
        "for carro in carros:\n",
        "    print(carro)\n",
        "\n",
        "\n",
        "for indice, carro in enumerate(carros):\n",
        "    print(f\"{indice}: {carro}\")"
      ],
      "metadata": {
        "colab": {
          "base_uri": "https://localhost:8080/"
        },
        "id": "zyf8Wv5hQl7k",
        "outputId": "47664d77-7b57-4dc1-b6bd-af495a4ba46b"
      },
      "execution_count": 8,
      "outputs": [
        {
          "output_type": "stream",
          "name": "stdout",
          "text": [
            "gol\n",
            "celta\n",
            "palio\n",
            "0: gol\n",
            "1: celta\n",
            "2: palio\n"
          ]
        }
      ]
    },
    {
      "cell_type": "code",
      "source": [
        "# Filtrar lista\n",
        "numeros = [1, 30, 21, 2, 9, 65, 34]\n",
        "pares = [numero for numero in numeros if numero % 2 == 0]\n",
        "print(pares)\n",
        "\n",
        "# Modificar valores\n",
        "numeros = [1, 30, 21, 2, 9, 65, 34]\n",
        "quadrado = [numero**2 for numero in numeros]\n",
        "print(quadrado)"
      ],
      "metadata": {
        "colab": {
          "base_uri": "https://localhost:8080/"
        },
        "id": "4hWnXDGmQqqM",
        "outputId": "51b7a0c7-bb22-4523-83d4-ead51607150d"
      },
      "execution_count": 9,
      "outputs": [
        {
          "output_type": "stream",
          "name": "stdout",
          "text": [
            "[30, 2, 34]\n",
            "[1, 900, 441, 4, 81, 4225, 1156]\n"
          ]
        }
      ]
    },
    {
      "cell_type": "code",
      "source": [
        "lista = []\n",
        "\n",
        "lista.append(1)\n",
        "lista.append(\"Python\")\n",
        "lista.append([40, 30, 20])\n",
        "\n",
        "print(lista)  # [1, \"Python\", [40, 30, 20]]"
      ],
      "metadata": {
        "colab": {
          "base_uri": "https://localhost:8080/"
        },
        "id": "Ax0--YzEQuDk",
        "outputId": "f25c0bce-4ff0-4000-f5ec-da2ca73d3bca"
      },
      "execution_count": 10,
      "outputs": [
        {
          "output_type": "stream",
          "name": "stdout",
          "text": [
            "[1, 'Python', [40, 30, 20]]\n"
          ]
        }
      ]
    },
    {
      "cell_type": "code",
      "source": [
        "lista = [1, \"Python\", [40, 30, 20]]\n",
        "\n",
        "print(lista)  # [1, \"Python\", [40, 30, 20]]\n",
        "\n",
        "lista.clear()\n",
        "\n",
        "print(lista)  # []"
      ],
      "metadata": {
        "colab": {
          "base_uri": "https://localhost:8080/"
        },
        "id": "DdwXNYN4QyKE",
        "outputId": "86f61f50-0ee1-44bd-ac35-cf53c2ba15c5"
      },
      "execution_count": 11,
      "outputs": [
        {
          "output_type": "stream",
          "name": "stdout",
          "text": [
            "[1, 'Python', [40, 30, 20]]\n",
            "[]\n"
          ]
        }
      ]
    },
    {
      "cell_type": "code",
      "source": [
        "lista = [1, \"Python\", [40, 30, 20]]\n",
        "\n",
        "lista.copy()\n",
        "\n",
        "print(lista)  # [1, \"Python\", [40, 30, 20]]"
      ],
      "metadata": {
        "colab": {
          "base_uri": "https://localhost:8080/"
        },
        "id": "Bmba9BUGQ2f1",
        "outputId": "c07a034a-66e6-4644-e843-5f40ca322c6a"
      },
      "execution_count": 12,
      "outputs": [
        {
          "output_type": "stream",
          "name": "stdout",
          "text": [
            "[1, 'Python', [40, 30, 20]]\n"
          ]
        }
      ]
    },
    {
      "cell_type": "code",
      "source": [
        "cores = [\"vermelho\", \"azul\", \"verde\", \"azul\"]\n",
        "\n",
        "print(cores.count(\"vermelho\"))  # 1\n",
        "print(cores.count(\"azul\"))  # 2\n",
        "print(cores.count(\"verde\"))  # 1"
      ],
      "metadata": {
        "colab": {
          "base_uri": "https://localhost:8080/"
        },
        "id": "yKwK9IU2Q5cV",
        "outputId": "9986d0b4-17c6-46c6-b40b-24350deaa3ee"
      },
      "execution_count": 13,
      "outputs": [
        {
          "output_type": "stream",
          "name": "stdout",
          "text": [
            "1\n",
            "2\n",
            "1\n"
          ]
        }
      ]
    },
    {
      "cell_type": "code",
      "source": [
        "linguagens = [\"python\", \"js\", \"c\"]\n",
        "\n",
        "print(linguagens)  # [\"python\", \"js\", \"c\"]\n",
        "\n",
        "linguagens.extend([\"java\", \"csharp\"])\n",
        "\n",
        "print(linguagens)  # [\"python\", \"js\", \"c\", \"java\", \"csharp\"]"
      ],
      "metadata": {
        "colab": {
          "base_uri": "https://localhost:8080/"
        },
        "id": "m6Dl3LSHQ8fc",
        "outputId": "35d70485-b861-4b0f-999b-eb25379b7426"
      },
      "execution_count": 14,
      "outputs": [
        {
          "output_type": "stream",
          "name": "stdout",
          "text": [
            "['python', 'js', 'c']\n",
            "['python', 'js', 'c', 'java', 'csharp']\n"
          ]
        }
      ]
    },
    {
      "cell_type": "code",
      "source": [
        "linguagens = [\"python\", \"js\", \"c\", \"java\", \"csharp\"]\n",
        "\n",
        "print(linguagens.index(\"java\"))  # 3\n",
        "print(linguagens.index(\"python\"))  # 0"
      ],
      "metadata": {
        "colab": {
          "base_uri": "https://localhost:8080/"
        },
        "id": "ZpQxGlSMQ_us",
        "outputId": "96af28e6-0a98-4349-8377-bdfb04cf9e3b"
      },
      "execution_count": 15,
      "outputs": [
        {
          "output_type": "stream",
          "name": "stdout",
          "text": [
            "3\n",
            "0\n"
          ]
        }
      ]
    },
    {
      "cell_type": "code",
      "source": [
        "linguagens = [\"python\", \"js\", \"c\", \"java\", \"csharp\"]\n",
        "\n",
        "print(linguagens.pop())  # csharp\n",
        "print(linguagens.pop())  # java\n",
        "print(linguagens.pop())  # c\n",
        "print(linguagens.pop(0))  # python"
      ],
      "metadata": {
        "colab": {
          "base_uri": "https://localhost:8080/"
        },
        "id": "rMtaJZSHRJkc",
        "outputId": "3ae85061-eef0-4770-9e8d-8ca3d1196bb4"
      },
      "execution_count": 16,
      "outputs": [
        {
          "output_type": "stream",
          "name": "stdout",
          "text": [
            "csharp\n",
            "java\n",
            "c\n",
            "python\n"
          ]
        }
      ]
    },
    {
      "cell_type": "code",
      "source": [
        "linguagens = [\"python\", \"js\", \"c\", \"java\", \"csharp\"]\n",
        "\n",
        "linguagens.remove(\"c\")\n",
        "\n",
        "print(linguagens)  # [\"python\", \"js\", \"java\", \"csharp\"]"
      ],
      "metadata": {
        "colab": {
          "base_uri": "https://localhost:8080/"
        },
        "id": "UtiQWpRrRNq1",
        "outputId": "ae18c853-ae40-4c5f-945a-f137e0019e82"
      },
      "execution_count": 17,
      "outputs": [
        {
          "output_type": "stream",
          "name": "stdout",
          "text": [
            "['python', 'js', 'java', 'csharp']\n"
          ]
        }
      ]
    },
    {
      "cell_type": "code",
      "source": [
        "linguagens = [\"python\", \"js\", \"c\", \"java\", \"csharp\"]\n",
        "\n",
        "linguagens.reverse()\n",
        "\n",
        "print(linguagens)  # [\"csharp\", \"java\", \"c\", \"js\", \"python\"]"
      ],
      "metadata": {
        "colab": {
          "base_uri": "https://localhost:8080/"
        },
        "id": "_z8aqzegRYlX",
        "outputId": "1135acf3-4395-4725-bb79-12d064595c7d"
      },
      "execution_count": 18,
      "outputs": [
        {
          "output_type": "stream",
          "name": "stdout",
          "text": [
            "['csharp', 'java', 'c', 'js', 'python']\n"
          ]
        }
      ]
    },
    {
      "cell_type": "code",
      "source": [
        "linguagens = [\"python\", \"js\", \"c\", \"java\", \"csharp\"]\n",
        "linguagens.sort()  # [\"c\", \"csharp\", \"java\", \"js\", \"python\"]\n",
        "print(linguagens)\n",
        "\n",
        "linguagens = [\"python\", \"js\", \"c\", \"java\", \"csharp\"]\n",
        "linguagens.sort(reverse=True)  # [\"python\", \"js\", \"java\", \"csharp\", \"c\"]\n",
        "print(linguagens)\n",
        "\n",
        "linguagens = [\"python\", \"js\", \"c\", \"java\", \"csharp\"]\n",
        "linguagens.sort(key=lambda x: len(x))  # [\"c\", \"js\", \"java\", \"python\", \"csharp\"]\n",
        "print(linguagens)\n",
        "\n",
        "linguagens = [\"python\", \"js\", \"c\", \"java\", \"csharp\"]\n",
        "linguagens.sort(key=lambda x: len(x), reverse=True)  # [\"python\", \"csharp\", \"java\", \"js\", \"c\"]\n",
        "print(linguagens)"
      ],
      "metadata": {
        "colab": {
          "base_uri": "https://localhost:8080/"
        },
        "id": "VBuERT85Rc0V",
        "outputId": "fb4e3ab6-2b55-4e67-8cec-75902d39deb6"
      },
      "execution_count": 19,
      "outputs": [
        {
          "output_type": "stream",
          "name": "stdout",
          "text": [
            "['c', 'csharp', 'java', 'js', 'python']\n",
            "['python', 'js', 'java', 'csharp', 'c']\n",
            "['c', 'js', 'java', 'python', 'csharp']\n",
            "['python', 'csharp', 'java', 'js', 'c']\n"
          ]
        }
      ]
    },
    {
      "cell_type": "code",
      "source": [
        "linguagens = [\"python\", \"js\", \"c\", \"java\", \"csharp\"]\n",
        "\n",
        "print(len(linguagens))  # 5"
      ],
      "metadata": {
        "colab": {
          "base_uri": "https://localhost:8080/"
        },
        "id": "OMDtG5Y0RiNM",
        "outputId": "527e461a-bbf3-406f-e584-dbe4e4af5b37"
      },
      "execution_count": 20,
      "outputs": [
        {
          "output_type": "stream",
          "name": "stdout",
          "text": [
            "5\n"
          ]
        }
      ]
    },
    {
      "cell_type": "code",
      "source": [
        "linguagens = [\"python\", \"js\", \"c\", \"java\", \"csharp\"]\n",
        "\n",
        "print(sorted(linguagens, key=lambda x: len(x)))  # [\"c\", \"js\", \"java\", \"python\", \"csharp\"]\n",
        "print(sorted(linguagens, key=lambda x: len(x), reverse=True))  # [\"python\", \"csharp\", \"java\", \"js\", \"c\"]"
      ],
      "metadata": {
        "colab": {
          "base_uri": "https://localhost:8080/"
        },
        "id": "Is6HCmR8Rwns",
        "outputId": "7b91678e-9ed3-49ef-9638-b022956cc327"
      },
      "execution_count": 21,
      "outputs": [
        {
          "output_type": "stream",
          "name": "stdout",
          "text": [
            "['c', 'js', 'java', 'python', 'csharp']\n",
            "['python', 'csharp', 'java', 'js', 'c']\n"
          ]
        }
      ]
    },
    {
      "cell_type": "code",
      "source": [],
      "metadata": {
        "id": "TN0E3JbXRzr1"
      },
      "execution_count": null,
      "outputs": []
    },
    {
      "cell_type": "code",
      "source": [],
      "metadata": {
        "id": "38AAB313QyPE"
      },
      "execution_count": 10,
      "outputs": []
    },
    {
      "cell_type": "code",
      "source": [],
      "metadata": {
        "id": "Yqld-iuvQyS0"
      },
      "execution_count": 10,
      "outputs": []
    },
    {
      "cell_type": "code",
      "source": [],
      "metadata": {
        "id": "4rEVUb_5QyWc"
      },
      "execution_count": null,
      "outputs": []
    },
    {
      "cell_type": "code",
      "execution_count": 1,
      "metadata": {
        "id": "xi56TbnPPbPI"
      },
      "outputs": [],
      "source": [
        "def exibir_poema(data_extenso, *args, **kwargs):\n",
        "    texto = \"\\n\".join(args)\n",
        "    meta_dados = \"\\n\".join([f\"{chave.title()}: {valor}\" for chave, valor in kwargs.items()])\n",
        "    mensagem = f\"{data_extenso}\\n\\n{texto}\\n\\n{meta_dados}\"\n",
        "    print(mensagem)\n"
      ]
    },
    {
      "cell_type": "code",
      "source": [
        "exibir_poema(\n",
        "    \"Zen of Python\",\n",
        "    \"Beautiful is better than ugly.\",\n",
        "    \"Explicit is better than implicit.\",\n",
        "    \"Simple is better than complex.\",\n",
        "    \"Complex is better than complicated.\",\n",
        "    \"Flat is better than nested.\",\n",
        "    \"Sparse is better than dense.\",\n",
        "    \"Readability counts.\",\n",
        "    \"Special cases aren't special enough to break the rules.\",\n",
        "    \"Although practicality beats purity.\",\n",
        "    \"Errors should never pass silently.\",\n",
        "    \"Unless explicitly silenced.\",\n",
        "    \"In the face of ambiguity, refuse the temptation to guess.\",\n",
        "    \"There should be one-- and preferably only one --obvious way to do it.\",\n",
        "    \"Although that way may not be obvious at first unless you're Dutch.\",\n",
        "    \"Now is better than never.\",\n",
        "    \"Although never is often better than *right* now.\",\n",
        "    \"If the implementation is hard to explain, it's a bad idea.\",\n",
        "    \"If the implementation is easy to explain, it may be a good idea.\",\n",
        "    \"Namespaces are one honking great idea -- let's do more of those!\",\n",
        "    autor=\"Tim Peters\",\n",
        "    ano=1999,\n",
        ")"
      ],
      "metadata": {
        "colab": {
          "base_uri": "https://localhost:8080/"
        },
        "id": "LvNnBPA9PiXH",
        "outputId": "269ae5bf-ca7b-4cc9-a730-21b23f2961e2"
      },
      "execution_count": 2,
      "outputs": [
        {
          "output_type": "stream",
          "name": "stdout",
          "text": [
            "Zen of Python\n",
            "\n",
            "Beautiful is better than ugly.\n",
            "Explicit is better than implicit.\n",
            "Simple is better than complex.\n",
            "Complex is better than complicated.\n",
            "Flat is better than nested.\n",
            "Sparse is better than dense.\n",
            "Readability counts.\n",
            "Special cases aren't special enough to break the rules.\n",
            "Although practicality beats purity.\n",
            "Errors should never pass silently.\n",
            "Unless explicitly silenced.\n",
            "In the face of ambiguity, refuse the temptation to guess.\n",
            "There should be one-- and preferably only one --obvious way to do it.\n",
            "Although that way may not be obvious at first unless you're Dutch.\n",
            "Now is better than never.\n",
            "Although never is often better than *right* now.\n",
            "If the implementation is hard to explain, it's a bad idea.\n",
            "If the implementation is easy to explain, it may be a good idea.\n",
            "Namespaces are one honking great idea -- let's do more of those!\n",
            "\n",
            "Autor: Tim Peters\n",
            "Ano: 1999\n"
          ]
        }
      ]
    },
    {
      "cell_type": "code",
      "source": [],
      "metadata": {
        "id": "nun6FmrkPyh3"
      },
      "execution_count": null,
      "outputs": []
    }
  ]
}