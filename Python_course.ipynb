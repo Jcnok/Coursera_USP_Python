{
  "nbformat": 4,
  "nbformat_minor": 0,
  "metadata": {
    "colab": {
      "provenance": [],
      "authorship_tag": "ABX9TyMd5aJKXql3Cr3v5lOsvqlW",
      "include_colab_link": true
    },
    "kernelspec": {
      "name": "python3",
      "display_name": "Python 3"
    },
    "language_info": {
      "name": "python"
    }
  },
  "cells": [
    {
      "cell_type": "markdown",
      "metadata": {
        "id": "view-in-github",
        "colab_type": "text"
      },
      "source": [
        "<a href=\"https://colab.research.google.com/github/Jcnok/Coursera_USP_Python/blob/master/Python_course.ipynb\" target=\"_parent\"><img src=\"https://colab.research.google.com/assets/colab-badge.svg\" alt=\"Open In Colab\"/></a>"
      ]
    },
    {
      "cell_type": "code",
      "execution_count": 1,
      "metadata": {
        "id": "xi56TbnPPbPI"
      },
      "outputs": [],
      "source": [
        "def exibir_poema(data_extenso, *args, **kwargs):\n",
        "    texto = \"\\n\".join(args)\n",
        "    meta_dados = \"\\n\".join([f\"{chave.title()}: {valor}\" for chave, valor in kwargs.items()])\n",
        "    mensagem = f\"{data_extenso}\\n\\n{texto}\\n\\n{meta_dados}\"\n",
        "    print(mensagem)\n"
      ]
    },
    {
      "cell_type": "code",
      "source": [
        "exibir_poema(\n",
        "    \"Zen of Python\",\n",
        "    \"Beautiful is better than ugly.\",\n",
        "    \"Explicit is better than implicit.\",\n",
        "    \"Simple is better than complex.\",\n",
        "    \"Complex is better than complicated.\",\n",
        "    \"Flat is better than nested.\",\n",
        "    \"Sparse is better than dense.\",\n",
        "    \"Readability counts.\",\n",
        "    \"Special cases aren't special enough to break the rules.\",\n",
        "    \"Although practicality beats purity.\",\n",
        "    \"Errors should never pass silently.\",\n",
        "    \"Unless explicitly silenced.\",\n",
        "    \"In the face of ambiguity, refuse the temptation to guess.\",\n",
        "    \"There should be one-- and preferably only one --obvious way to do it.\",\n",
        "    \"Although that way may not be obvious at first unless you're Dutch.\",\n",
        "    \"Now is better than never.\",\n",
        "    \"Although never is often better than *right* now.\",\n",
        "    \"If the implementation is hard to explain, it's a bad idea.\",\n",
        "    \"If the implementation is easy to explain, it may be a good idea.\",\n",
        "    \"Namespaces are one honking great idea -- let's do more of those!\",\n",
        "    autor=\"Tim Peters\",\n",
        "    ano=1999,\n",
        ")"
      ],
      "metadata": {
        "colab": {
          "base_uri": "https://localhost:8080/"
        },
        "id": "LvNnBPA9PiXH",
        "outputId": "269ae5bf-ca7b-4cc9-a730-21b23f2961e2"
      },
      "execution_count": 2,
      "outputs": [
        {
          "output_type": "stream",
          "name": "stdout",
          "text": [
            "Zen of Python\n",
            "\n",
            "Beautiful is better than ugly.\n",
            "Explicit is better than implicit.\n",
            "Simple is better than complex.\n",
            "Complex is better than complicated.\n",
            "Flat is better than nested.\n",
            "Sparse is better than dense.\n",
            "Readability counts.\n",
            "Special cases aren't special enough to break the rules.\n",
            "Although practicality beats purity.\n",
            "Errors should never pass silently.\n",
            "Unless explicitly silenced.\n",
            "In the face of ambiguity, refuse the temptation to guess.\n",
            "There should be one-- and preferably only one --obvious way to do it.\n",
            "Although that way may not be obvious at first unless you're Dutch.\n",
            "Now is better than never.\n",
            "Although never is often better than *right* now.\n",
            "If the implementation is hard to explain, it's a bad idea.\n",
            "If the implementation is easy to explain, it may be a good idea.\n",
            "Namespaces are one honking great idea -- let's do more of those!\n",
            "\n",
            "Autor: Tim Peters\n",
            "Ano: 1999\n"
          ]
        }
      ]
    },
    {
      "cell_type": "code",
      "source": [],
      "metadata": {
        "id": "nun6FmrkPyh3"
      },
      "execution_count": null,
      "outputs": []
    }
  ]
}