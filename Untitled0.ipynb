{
  "nbformat": 4,
  "nbformat_minor": 0,
  "metadata": {
    "colab": {
      "provenance": [],
      "authorship_tag": "ABX9TyMul4qT7Y/O3iv5l/QtF36k",
      "include_colab_link": true
    },
    "kernelspec": {
      "name": "python3",
      "display_name": "Python 3"
    },
    "language_info": {
      "name": "python"
    }
  },
  "cells": [
    {
      "cell_type": "markdown",
      "metadata": {
        "id": "view-in-github",
        "colab_type": "text"
      },
      "source": [
        "<a href=\"https://colab.research.google.com/github/Jcnok/Coursera_USP_Python/blob/master/Untitled0.ipynb\" target=\"_parent\"><img src=\"https://colab.research.google.com/assets/colab-badge.svg\" alt=\"Open In Colab\"/></a>"
      ]
    },
    {
      "cell_type": "markdown",
      "source": [
        "![img](https://github.com/Jcnok/digitalinnovationone/blob/main/images/pib_vs_life.png?raw=true)"
      ],
      "metadata": {
        "id": "e9uO0WpMNQg-"
      }
    },
    {
      "cell_type": "markdown",
      "source": [
        " <img src=\"https://github.com/Jcnok/digitalinnovationone/blob/main/images/pib_vs_life.png?raw=true\" width=600 height=300>"
      ],
      "metadata": {
        "id": "Z-pjq2S2PDIX"
      }
    },
    {
      "cell_type": "code",
      "source": [],
      "metadata": {
        "id": "dw1YFYnfPdaU"
      },
      "execution_count": null,
      "outputs": []
    },
    {
      "cell_type": "code",
      "source": [],
      "metadata": {
        "id": "aSs1Iy2xPFUT"
      },
      "execution_count": null,
      "outputs": []
    },
    {
      "cell_type": "code",
      "source": [],
      "metadata": {
        "id": "OgLOJ_yhNiyk"
      },
      "execution_count": null,
      "outputs": []
    },
    {
      "cell_type": "code",
      "source": [],
      "metadata": {
        "id": "smmKWfpBNU5z"
      },
      "execution_count": null,
      "outputs": []
    }
  ]
}